{
 "cells": [
  {
   "cell_type": "code",
   "execution_count": 1,
   "id": "12cc4568-0e78-4f35-b487-726d32c90db7",
   "metadata": {},
   "outputs": [],
   "source": [
    "# This is an example GPT style decoder only transformer model and example dataset\n",
    "# This an example of the use of the icanswim/cosmosis repo for data science and \n",
    "# machine learning projects\n",
    "\n",
    "import sys # required for relative imports in jupyter lab\n",
    "sys.path.insert(0, '../')\n",
    "\n",
    "from dataset import TinyShakes\n",
    "\n",
    "from cosmosis.model import GPT\n",
    "from cosmosis.dataset import AsTensor\n",
    "from cosmosis.learning import Learn, Selector, Metrics\n",
    "\n",
    "from torch.nn import CrossEntropyLoss\n",
    "from torch.optim import Adam\n",
    "from torch.optim.lr_scheduler import ReduceLROnPlateau\n"
   ]
  },
  {
   "cell_type": "code",
   "execution_count": 2,
   "id": "0a41a7c0-4dfd-4eee-97d0-ff3be0ff68ea",
   "metadata": {},
   "outputs": [
    {
     "name": "stdout",
     "output_type": "stream",
     "text": [
      "tinyshakes.txt loaded from saved file in ../gpt/data/\n",
      "tokens loaded from file ./data/tinyskakes_encoded.bin\n",
      "len(self.ds_idx):  1\n",
      "data.nbytes:  676050\n",
      "CDataset created...\n",
      "{'X1': tensor([ 5962, 22307,    25,   198,  8421,   356]), 'X2': tensor([22307,    25,   198,  8421,   356,  5120])}\n",
      "torch.Size([6])\n",
      "torch.Size([6])\n"
     ]
    }
   ],
   "source": [
    "ds_param = {'transforms': {'X1': [AsTensor()],\n",
    "                           'X2': [AsTensor()]},\n",
    "            'block_size': 6,\n",
    "            'n': 1}\n",
    "\n",
    "ts = TinyShakes(**ds_param)\n",
    "print(ts[0])\n",
    "print(ts[0]['X1'].shape)\n",
    "print(ts[0]['X2'].shape)"
   ]
  },
  {
   "cell_type": "code",
   "execution_count": 3,
   "id": "daa1bb37-3b07-4b1c-9fde-1ddf5f3c8c5b",
   "metadata": {},
   "outputs": [
    {
     "name": "stdout",
     "output_type": "stream",
     "text": [
      "len(self.ds_idx):  1\n",
      "data.nbytes:  24\n",
      "CDataset created...\n",
      "{'X1': tensor([ 3237,   262, 11621,   257,  3800,   290,   477,   262,  1450,   290,\n",
      "         1466,  6974]), 'X2': tensor([  262, 11621,   257,  3800,   290,   477,   262,  1450,   290,  1466,\n",
      "         6974])}\n",
      "torch.Size([12])\n",
      "torch.Size([11])\n"
     ]
    }
   ],
   "source": [
    "ds_param = {'transforms': {'X1': [AsTensor()],\n",
    "                           'X2': [AsTensor()]},\n",
    "            'block_size': 20,\n",
    "            'prompt': 'All the worlds a stage and all the men and women merely'}\n",
    "\n",
    "ts_infer = TinyShakes(**ds_param)\n",
    "print(ts_infer[0])\n",
    "print(ts_infer[0]['X1'].shape)\n",
    "print(ts_infer[0]['X2'].shape)"
   ]
  },
  {
   "cell_type": "code",
   "execution_count": 4,
   "id": "ce655299-cf77-45d5-a5a9-40a562816828",
   "metadata": {},
   "outputs": [
    {
     "name": "stdout",
     "output_type": "stream",
     "text": [
      "CModel loaded...\n"
     ]
    }
   ],
   "source": [
    "# load model\n",
    "model_param = {'device': 'cpu',\n",
    "               'd_model': 32, # matches embedding dimension\n",
    "               'd_vocab': 50304, # matches embedding vocab\n",
    "               'n_head': 2, \n",
    "               'num_layers': 2,\n",
    "               'linear_head': True,\n",
    "               'probs': False, # softmax\n",
    "               'tokens': False, # multinomial\n",
    "               'transpose': False, \n",
    "               'embed_param': {'X1': (50304, 32, None, True),\n",
    "                               'X2': (50304, 32, None, True)}} \n",
    "\n",
    "gpt = GPT(model_param)"
   ]
  },
  {
   "cell_type": "code",
   "execution_count": 5,
   "id": "b9906fb4-873c-44c8-9604-3f94c69b4bc2",
   "metadata": {},
   "outputs": [
    {
     "name": "stdout",
     "output_type": "stream",
     "text": [
      "tensor([[-0.9291,  0.0000, -0.3464,  ...,  0.4564,  0.0000,  0.4149],\n",
      "        [ 0.4021, -1.0753, -0.3199,  ...,  1.0373, -0.4589, -1.2038],\n",
      "        [-0.3018,  0.0000, -1.3951,  ...,  0.0881,  0.2543,  0.0000],\n",
      "        ...,\n",
      "        [ 0.9360, -0.6832,  0.6980,  ..., -0.0826,  0.1305, -1.3805],\n",
      "        [ 0.0000, -0.1614, -0.5256,  ...,  0.0000,  0.3799, -0.7598],\n",
      "        [-0.5119,  0.8568, -0.1185,  ..., -0.8360,  0.1479,  0.9456]],\n",
      "       grad_fn=<MulBackward0>)\n",
      "torch.Size([12, 50304])\n",
      "torch.float32\n"
     ]
    }
   ],
   "source": [
    "# load single data example into model and examine output\n",
    "data = ts_infer[0]\n",
    "out = gpt(data)\n",
    "print(out)\n",
    "print(out.shape)\n",
    "print(out.dtype)"
   ]
  },
  {
   "cell_type": "code",
   "execution_count": 6,
   "id": "ece293e8-8433-4920-9200-c6c707cbf478",
   "metadata": {},
   "outputs": [
    {
     "name": "stdout",
     "output_type": "stream",
     "text": [
      "prompt_tokens:  tensor([  262, 11621,   257,  3800,   290,   477,   262,  1450,   290,  1466,\n",
      "         6974]) torch.Size([11]) torch.int64\n",
      "target_tokens:  tensor([ 3237,   262, 11621,   257,  3800,   290,   477,   262,  1450,   290,\n",
      "         1466,  6974]) torch.Size([12]) torch.int64\n",
      "generated_tokens:  tensor([[[-0.9291,  0.0000, -0.3464,  ...,  0.4564,  0.0000,  0.4149],\n",
      "         [ 0.4021, -1.0753, -0.3199,  ...,  1.0373, -0.4589, -1.2038],\n",
      "         [-0.3018,  0.0000, -1.3951,  ...,  0.0881,  0.2543,  0.0000],\n",
      "         ...,\n",
      "         [ 0.9360, -0.6832,  0.6980,  ..., -0.0826,  0.1305, -1.3805],\n",
      "         [ 0.0000, -0.1614, -0.5256,  ...,  0.0000,  0.3799, -0.7598],\n",
      "         [-0.5119,  0.8568, -0.1185,  ..., -0.8360,  0.1479,  0.9456]]],\n",
      "       grad_fn=<UnsqueezeBackward0>) torch.Size([12, 50304]) torch.float32\n",
      "loss:  tensor(11.3537, grad_fn=<NllLossBackward0>)\n"
     ]
    }
   ],
   "source": [
    "# load generated logits and target tokens into loss function\n",
    "cel_func = CrossEntropyLoss()\n",
    "prompt_tokens = data['X2']\n",
    "print('prompt_tokens: ', prompt_tokens, prompt_tokens.shape, prompt_tokens.dtype)\n",
    "\n",
    "target_tokens = data['X1']\n",
    "target_tokens.unsqueeze(0)\n",
    "print('target_tokens: ', target_tokens, target_tokens.shape, target_tokens.dtype)\n",
    "\n",
    "generated_tokens = out\n",
    "generated_tokens.unsqueeze(0)\n",
    "print('generated_tokens: ', generated_tokens.unsqueeze(0), generated_tokens.shape, generated_tokens.dtype)\n",
    "\n",
    "loss = cel_func(generated_tokens, target_tokens)\n",
    "print('loss: ', loss)"
   ]
  },
  {
   "cell_type": "code",
   "execution_count": 7,
   "id": "85bba839-481a-4aa8-8e88-ec83a0629029",
   "metadata": {
    "scrolled": true
   },
   "outputs": [
    {
     "name": "stdout",
     "output_type": "stream",
     "text": [
      "tinyshakes.txt loaded from saved file in ../gpt/data/\n",
      "tokens loaded from file ./data/tinyskakes_encoded.bin\n",
      "len(self.ds_idx):  2000\n",
      "data.nbytes:  676050\n",
      "CDataset created...\n",
      "CModel loaded...\n",
      "running model on gpu...\n",
      "\n",
      "...........................\n",
      "learning time: 0:00:07.461468\n",
      "epoch: 0, lr: 0.01\n",
      "train loss: 0.4025737948116215, val loss: 0.30647869573699105\n",
      "\n",
      "last targets: \n",
      "'s the pith of all.\n",
      "\n",
      "LUCENTIO:\n",
      "O yes, I saw\n",
      "\n",
      "last predictions: \n",
      "'s the- as of!.\n",
      "\n",
      " ofEL dIO:\n",
      "! thee, I'\n",
      "\n",
      "\n",
      "...........................\n",
      "learning time: 0:00:19.206964\n",
      "epoch: 2, lr: 0.01\n",
      "train loss: 0.20824289184877243, val loss: 0.2166348174214363\n",
      "\n",
      "last targets: \n",
      " the north,\n",
      "To do me business in the veins o' the earth\n",
      "When it is baked\n",
      "\n",
      "last predictions: \n",
      " the cl,\n",
      "To do me them in theA o' the Pompe\n",
      "Of it isA\n",
      "\n",
      "\n",
      "...........................\n",
      "learning time: 0:00:31.205190\n",
      "epoch: 4, lr: 0.01\n",
      "train loss: 0.15705482653160205, val loss: 0.1949504017829895\n",
      "\n",
      "last targets: \n",
      "! marry, 'tis time.\n",
      "Well said, my hearts! You are a princox;\n",
      "\n",
      "last predictions: \n",
      "! gods, 'tis time.\n",
      "Well said, my friend! there are a BR;\n",
      "\n",
      "\n",
      "...........................\n",
      "learning time: 0:00:43.130505\n",
      "epoch: 6, lr: 0.01\n",
      "train loss: 0.13299512537731523, val loss: 0.18613127370675406\n",
      "\n",
      "last targets: \n",
      "US:\n",
      "What news abroad i' the world?\n",
      "\n",
      "DUKE VINCENTIO\n",
      "\n",
      "last predictions: \n",
      "US:\n",
      "What newsHow i' the prince?\n",
      "\n",
      "DUKE VINCENTIO\n",
      "\n",
      "\n",
      "...........................\n",
      "learning time: 0:00:55.138316\n",
      "epoch: 8, lr: 0.01\n",
      "train loss: 0.1177991949792566, val loss: 0.17500690039661196\n",
      "\n",
      "last targets: \n",
      " thee for thy gown tomorrow:\n",
      "Take no unkindness of his hasty words:\n",
      "A\n",
      "\n",
      "last predictions: \n",
      " thee for thy word ch:\n",
      "t no un musicness him his hford words:\n",
      "A\n",
      "\n",
      "\n",
      "...........................\n",
      "learning time: 0:01:02.045621\n",
      "last predictions: \n",
      " blood were in my father'sA.\n",
      "\n",
      "CL midstORD:\n",
      " yetge it no more\n",
      "\n",
      "last targets: \n",
      " blood were in my father's veins.\n",
      "\n",
      "CLIFFORD:\n",
      "Urge it no more\n",
      "test loss: 0.16815400371948877 \n",
      "\n"
     ]
    },
    {
     "data": {
      "image/png": "[encoded data removed]",
      "text/plain": [
       "<Figure size 640x480 with 1 Axes>"
      ]
     },
     "metadata": {},
     "output_type": "display_data"
    }
   ],
   "source": [
    "# put all together in a learner\n",
    "ds_param = {'train_param': {'transforms': {'X1': [AsTensor()],\n",
    "                                           'X2': [AsTensor()]},\n",
    "                            'block_size': 20,\n",
    "                            'n': 2000}}\n",
    "\n",
    "model_param = {'device': 'cuda',\n",
    "               'd_model': 32, # matches embedding dimension\n",
    "               'd_vocab': 50304, # matches embedding vocab\n",
    "               'n_head': 4, \n",
    "               'num_layers': 3,\n",
    "               'linear_head': True,\n",
    "               'probs': False,\n",
    "               'tokens': False,\n",
    "               'transpose': True, \n",
    "               'embed_param': {'X1': (50304, 32, None, True),\n",
    "                               'X2': (50304, 32, None, True)}} \n",
    "                                       \n",
    "metrics_param = {'metric_name': 'transformer',\n",
    "                 'report_interval': 10,\n",
    "                 'log_plot': True,\n",
    "                 'min_lr': .005} # break if learning rate falls below                        \n",
    "             \n",
    "opt_param = {'lr': 0.01}\n",
    "\n",
    "crit_param = {}\n",
    "\n",
    "sample_param = {'set_seed': 88,\n",
    "                'splits': (.7,.15)}\n",
    "\n",
    "sched_param = {'factor': .5, \n",
    "               'patience': 2,\n",
    "               'cooldown': 2}\n",
    "\n",
    "learn = Learn([TinyShakes], \n",
    "              GPT,\n",
    "              Metrics=Metrics,\n",
    "              Sampler=Selector, \n",
    "              Optimizer=Adam, \n",
    "              Scheduler=ReduceLROnPlateau, \n",
    "              Criterion=CrossEntropyLoss,\n",
    "              model_param=model_param, ds_param=ds_param, sample_param=sample_param,\n",
    "              opt_param=opt_param, sched_param=sched_param, crit_param=crit_param,\n",
    "              metrics_param=metrics_param, \n",
    "              batch_size=16, epochs=10, gpu=True, squeeze_y_pred=True, \n",
    "              save_model='gpt_test_model', target='X1')"
   ]
  },
  {
   "cell_type": "code",
   "execution_count": 8,
   "id": "f741604a-078e-4156-8a8c-73ce10437b3b",
   "metadata": {},
   "outputs": [
    {
     "name": "stdout",
     "output_type": "stream",
     "text": [
      "len(self.ds_idx):  1\n",
      "data.nbytes:  24\n",
      "CDataset created...\n",
      "CModel loaded...\n",
      "model loaded from state_dict...\n",
      "running model on gpu...\n",
      "\n",
      "...........................\n",
      "learning time: 0:00:00.175416\n",
      "last predictions: \n",
      "RY suchD gro YORKgWhat Tower Here cast\n",
      "\n",
      "inference 2024-12-31 09:49:36.903671 complete and saved to csv...\n"
     ]
    }
   ],
   "source": [
    "# inference\n",
    "ds_param = {'train_param': {'transforms': {'X1': [AsTensor()],\n",
    "                                           'X2': [AsTensor()]},\n",
    "                            'block_size': 10,\n",
    "                            'prompt': 'All the worlds a stage and all the men and women merely'}}\n",
    "\n",
    "model_param = {'device': 'cuda',\n",
    "               'd_model': 32, # matches embedding dimension\n",
    "               'd_vocab': 50304, # matches embedding vocab\n",
    "               'n_head': 4, \n",
    "               'num_layers': 3,\n",
    "               'linear_head': True,\n",
    "               'probs': False,\n",
    "               'tokens': False,\n",
    "               'transpose': True, \n",
    "               'embed_param': {'X1': (50304, 32, None, True),\n",
    "                               'X2': (50304, 32, None, True)}} \n",
    "\n",
    "                                       \n",
    "metrics_param = {'metric_name': 'transformer',\n",
    "                 'report_interval': 10,\n",
    "                 'log_plot': True,\n",
    "                 'min_lr': .005} # break if learning rate falls below                        \n",
    "             \n",
    "opt_param = {'lr': 0.01}\n",
    "\n",
    "crit_param = {}\n",
    "\n",
    "sample_param = {'set_seed': 88,\n",
    "                'splits': (.7,.15)}\n",
    "\n",
    "sched_param = {'factor': .5, \n",
    "               'patience': 2,\n",
    "               'cooldown': 2}\n",
    "\n",
    "learn = Learn([TinyShakes], \n",
    "              GPT,\n",
    "              Metrics=Metrics,\n",
    "              Sampler=Selector, \n",
    "              Optimizer=Adam, \n",
    "              Scheduler=ReduceLROnPlateau, \n",
    "              Criterion=None,\n",
    "              model_param=model_param, ds_param=ds_param, sample_param=sample_param,\n",
    "              opt_param=opt_param, sched_param=sched_param, crit_param=crit_param,\n",
    "              metrics_param=metrics_param, \n",
    "              batch_size=1, epochs=3, gpu=True, squeeze_y_pred=True, \n",
    "              load_model='gpt_test_model.pth', target='X1')\n"
   ]
  },
  {
   "cell_type": "code",
   "execution_count": 9,
   "id": "b0dc08fc-addf-41e7-bcda-5964508e161d",
   "metadata": {},
   "outputs": [
    {
     "data": {
      "text/plain": [
       "[' near lawsTo drift ButOS do Towerman face',\n",
       " ' nearCORPET yourself notaciousWhat laws indeed cast',\n",
       " 'RY suchD gro YORKgWhat Tower Here cast']"
      ]
     },
     "execution_count": 9,
     "metadata": {},
     "output_type": "execute_result"
    }
   ],
   "source": [
    "learn.metrics.predictions"
   ]
  },
  {
   "cell_type": "code",
   "execution_count": null,
   "id": "51656cf2-5d52-42f2-b815-0403fdf53f2e",
   "metadata": {},
   "outputs": [],
   "source": []
  }
 ],
 "metadata": {
  "kernelspec": {
   "display_name": "Python 3 (ipykernel)",
   "language": "python",
   "name": "python3"
  },
  "language_info": {
   "codemirror_mode": {
    "name": "ipython",
    "version": 3
   },
   "file_extension": ".py",
   "mimetype": "text/x-python",
   "name": "python",
   "nbconvert_exporter": "python",
   "pygments_lexer": "ipython3",
   "version": "3.12.5"
  }
 },
 "nbformat": 4,
 "nbformat_minor": 5
}
