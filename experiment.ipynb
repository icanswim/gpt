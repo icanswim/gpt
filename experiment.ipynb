{
 "cells": [
  {
   "cell_type": "code",
   "execution_count": 1,
   "id": "12cc4568-0e78-4f35-b487-726d32c90db7",
   "metadata": {},
   "outputs": [],
   "source": [
    "import sys # required for relative imports in jupyter lab\n",
    "sys.path.insert(0, '../')\n",
    "\n",
    "from cosmosis.model import GPT\n",
    "from cosmosis.dataset import AsTensor\n",
    "\n",
    "from dataset import TinyShakes\n"
   ]
  },
  {
   "cell_type": "code",
   "execution_count": 2,
   "id": "aba9ed73-8877-4149-a67d-e06dc33654f4",
   "metadata": {},
   "outputs": [
    {
     "name": "stdout",
     "output_type": "stream",
     "text": [
      "tinyshakes.txt loaded from saved file in ../gpt/data/\n",
      "tokens loaded from file ./data/tinyskakes_encoded.bin\n",
      "CDataset created...\n"
     ]
    }
   ],
   "source": [
    "ds_param = {'transforms': {'X1': [AsTensor()],\n",
    "                           'X2': [AsTensor()]},\n",
    "            'block_size': 8,\n",
    "            'batch_size': 2}\n",
    "\n",
    "ts = TinyShakes(**ds_param)"
   ]
  },
  {
   "cell_type": "code",
   "execution_count": 3,
   "id": "8bb7d809-8f62-46a9-bc3c-881bc34e2959",
   "metadata": {},
   "outputs": [
    {
     "name": "stdout",
     "output_type": "stream",
     "text": [
      "{'X1': tensor([[  340,   547, 22122,  8764,    11,   329, 11906, 11060],\n",
      "        [  467,    25,   198,    40,  1183,  1577,   616, 42701]]), 'X2': tensor([[  547, 22122,  8764,    11,   329, 11906, 11060,     0],\n",
      "        [   25,   198,    40,  1183,  1577,   616, 42701,   329]])}\n",
      "torch.Size([2, 8])\n",
      "<class 'torch.Tensor'>\n",
      "torch.int64\n"
     ]
    }
   ],
   "source": [
    "data = ts[1]\n",
    "\n",
    "print(data)\n",
    "print(data['X1'].shape)\n",
    "print(type(data['X1']))\n",
    "print(data['X1'].dtype)"
   ]
  },
  {
   "cell_type": "code",
   "execution_count": 4,
   "id": "ce655299-cf77-45d5-a5a9-40a562816828",
   "metadata": {},
   "outputs": [
    {
     "name": "stdout",
     "output_type": "stream",
     "text": [
      "CModel loaded...\n"
     ]
    }
   ],
   "source": [
    "model_param = {'device': 'cpu',\n",
    "               'd_model': 8, # matches embedding dimension\n",
    "               'd_vocab': 50304, # matches embedding vocab\n",
    "               'n_head': 2, \n",
    "               'num_layers': 2,\n",
    "               'softmax': None,\n",
    "               'embed_param': {'X1': (50304, 8, None, True),\n",
    "                               'X2': (50304, 8, None, True)}} \n",
    "\n",
    "gpt = GPT(model_param)"
   ]
  },
  {
   "cell_type": "code",
   "execution_count": 5,
   "id": "b9906fb4-873c-44c8-9604-3f94c69b4bc2",
   "metadata": {},
   "outputs": [],
   "source": [
    "out = gpt(ts[1])"
   ]
  },
  {
   "cell_type": "code",
   "execution_count": 6,
   "id": "cd7409b4-d91d-406c-a33a-6e1478eae08e",
   "metadata": {},
   "outputs": [
    {
     "name": "stdout",
     "output_type": "stream",
     "text": [
      "tensor([[ 0.1220, -1.4334,  1.1678,  ..., -0.9489,  0.7836, -0.9235],\n",
      "        [ 0.9871,  0.6361, -1.4289,  ...,  0.6579, -1.7328,  0.4181],\n",
      "        [ 0.5348,  0.1230,  0.9224,  ...,  0.0343,  0.1141, -0.7612],\n",
      "        ...,\n",
      "        [-1.3332,  0.6936, -0.2904,  ...,  1.8458,  0.0880,  0.1262],\n",
      "        [ 1.5036, -0.8750, -1.4542,  ..., -0.0228,  0.8876,  1.8381],\n",
      "        [-0.2549,  1.0628,  1.2335,  ...,  0.0234,  0.6825,  1.0829]],\n",
      "       grad_fn=<NativeBatchNormBackward0>)\n",
      "torch.Size([8, 50304])\n",
      "torch.float32\n"
     ]
    }
   ],
   "source": [
    "print(out)\n",
    "print(out.shape)\n",
    "print(out.dtype)"
   ]
  },
  {
   "cell_type": "code",
   "execution_count": null,
   "id": "632f0cef-d991-48bf-bf79-a194396542f5",
   "metadata": {},
   "outputs": [],
   "source": []
  }
 ],
 "metadata": {
  "kernelspec": {
   "display_name": "Python 3 (ipykernel)",
   "language": "python",
   "name": "python3"
  },
  "language_info": {
   "codemirror_mode": {
    "name": "ipython",
    "version": 3
   },
   "file_extension": ".py",
   "mimetype": "text/x-python",
   "name": "python",
   "nbconvert_exporter": "python",
   "pygments_lexer": "ipython3",
   "version": "3.12.5"
  }
 },
 "nbformat": 4,
 "nbformat_minor": 5
}
