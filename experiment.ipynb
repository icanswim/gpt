{
 "cells": [
  {
   "cell_type": "code",
   "execution_count": 1,
   "id": "12cc4568-0e78-4f35-b487-726d32c90db7",
   "metadata": {},
   "outputs": [],
   "source": [
    "# This is an example GPT style decoder only transformer model and example dataset\n",
    "# This an example of the use of the icanswim/cosmosis repo for data science and \n",
    "# machine learning projects\n",
    "\n",
    "import sys # required for relative imports in jupyter lab\n",
    "sys.path.insert(0, '../')\n",
    "\n",
    "from dataset import TinyShakes\n",
    "\n",
    "from cosmosis.model import GPT\n",
    "from cosmosis.dataset import AsTensor\n",
    "from cosmosis.learning import Learn, Selector, Metrics\n",
    "\n",
    "from torch.nn import CrossEntropyLoss\n",
    "from torch.optim import Adam\n",
    "from torch.optim.lr_scheduler import ReduceLROnPlateau\n"
   ]
  },
  {
   "cell_type": "code",
   "execution_count": 2,
   "id": "aba9ed73-8877-4149-a67d-e06dc33654f4",
   "metadata": {
    "collapsed": true,
    "jupyter": {
     "outputs_hidden": true,
     "source_hidden": true
    }
   },
   "outputs": [
    {
     "name": "stdout",
     "output_type": "stream",
     "text": [
      "tinyshakes.txt loaded from saved file in ../gpt/data/\n",
      "tokens loaded from file ./data/tinyskakes_encoded.bin\n",
      "len(self.ds_idx):  338015\n",
      "data.nbytes:  676050\n",
      "CDataset created...\n"
     ]
    }
   ],
   "source": [
    "# load dataset\n",
    "ds_param = {'transforms': {'X1': [AsTensor()], # target\n",
    "                           'X2': [AsTensor()]},\n",
    "            'block_size': 10}\n",
    "\n",
    "ts = TinyShakes(**ds_param)"
   ]
  },
  {
   "cell_type": "code",
   "execution_count": 3,
   "id": "8bb7d809-8f62-46a9-bc3c-881bc34e2959",
   "metadata": {
    "collapsed": true,
    "jupyter": {
     "outputs_hidden": true,
     "source_hidden": true
    }
   },
   "outputs": [
    {
     "name": "stdout",
     "output_type": "stream",
     "text": [
      "{'X1': tensor([ 198, 1169, 3595,   13, 1002,  262, 9976, 4483,  514,  407]), 'X2': tensor([1169, 3595,   13, 1002,  262, 9976, 4483,  514,  407,  510])}\n",
      "torch.Size([10])\n",
      "<class 'torch.Tensor'>\n",
      "torch.int64\n"
     ]
    }
   ],
   "source": [
    "# examine dataset\n",
    "data = ts[1000]\n",
    "\n",
    "print(data)\n",
    "print(data['X1'].shape)\n",
    "print(type(data['X1']))\n",
    "print(data['X1'].dtype)"
   ]
  },
  {
   "cell_type": "code",
   "execution_count": 4,
   "id": "ce655299-cf77-45d5-a5a9-40a562816828",
   "metadata": {
    "collapsed": true,
    "jupyter": {
     "outputs_hidden": true,
     "source_hidden": true
    }
   },
   "outputs": [
    {
     "name": "stdout",
     "output_type": "stream",
     "text": [
      "CModel loaded...\n"
     ]
    }
   ],
   "source": [
    "# load model\n",
    "model_param = {'device': 'cpu',\n",
    "               'd_model': 8, # matches embedding dimension\n",
    "               'd_vocab': 50304, # matches embedding vocab\n",
    "               'n_head': 2, \n",
    "               'num_layers': 2,\n",
    "               'linear_head': True,\n",
    "               'probs': False, # softmax\n",
    "               'tokens': False, # multinomial\n",
    "               'transpose': False, \n",
    "               'embed_param': {'X1': (50304, 8, None, True),\n",
    "                               'X2': (50304, 8, None, True)}} \n",
    "\n",
    "gpt = GPT(model_param)"
   ]
  },
  {
   "cell_type": "code",
   "execution_count": 5,
   "id": "b9906fb4-873c-44c8-9604-3f94c69b4bc2",
   "metadata": {
    "collapsed": true,
    "jupyter": {
     "outputs_hidden": true,
     "source_hidden": true
    }
   },
   "outputs": [
    {
     "name": "stdout",
     "output_type": "stream",
     "text": [
      "tensor([[-1.5189, -0.6265, -0.3118,  ..., -0.0000, -1.0168, -0.6245],\n",
      "        [-1.5231,  0.3002,  0.4793,  ..., -0.6866, -0.0000, -0.0000],\n",
      "        [-1.9158, -0.1835,  0.2067,  ..., -0.0000, -0.9768, -0.8793],\n",
      "        ...,\n",
      "        [-1.5180,  0.5218,  0.3593,  ..., -0.3322, -0.2801, -0.7053],\n",
      "        [-0.9496, -0.1074, -0.2530,  ..., -1.1539, -0.0000, -0.8892],\n",
      "        [-1.0630, -0.1041, -0.0000,  ..., -1.2577, -0.4483, -0.0000]],\n",
      "       grad_fn=<MulBackward0>)\n",
      "torch.Size([10, 50304])\n",
      "torch.float32\n"
     ]
    }
   ],
   "source": [
    "# load single data example into model and examine output\n",
    "out = gpt(data)\n",
    "print(out)\n",
    "print(out.shape)\n",
    "print(out.dtype)"
   ]
  },
  {
   "cell_type": "code",
   "execution_count": 6,
   "id": "ece293e8-8433-4920-9200-c6c707cbf478",
   "metadata": {
    "collapsed": true,
    "jupyter": {
     "outputs_hidden": true,
     "source_hidden": true
    }
   },
   "outputs": [
    {
     "name": "stdout",
     "output_type": "stream",
     "text": [
      "prompt_tokens:  tensor([1169, 3595,   13, 1002,  262, 9976, 4483,  514,  407,  510]) torch.Size([10]) torch.int64\n",
      "target_tokens:  tensor([ 198, 1169, 3595,   13, 1002,  262, 9976, 4483,  514,  407]) torch.Size([10]) torch.int64\n",
      "generated_tokens:  tensor([[[-1.5189, -0.6265, -0.3118,  ..., -0.0000, -1.0168, -0.6245],\n",
      "         [-1.5231,  0.3002,  0.4793,  ..., -0.6866, -0.0000, -0.0000],\n",
      "         [-1.9158, -0.1835,  0.2067,  ..., -0.0000, -0.9768, -0.8793],\n",
      "         ...,\n",
      "         [-1.5180,  0.5218,  0.3593,  ..., -0.3322, -0.2801, -0.7053],\n",
      "         [-0.9496, -0.1074, -0.2530,  ..., -1.1539, -0.0000, -0.8892],\n",
      "         [-1.0630, -0.1041, -0.0000,  ..., -1.2577, -0.4483, -0.0000]]],\n",
      "       grad_fn=<UnsqueezeBackward0>) torch.Size([10, 50304]) torch.float32\n",
      "loss:  tensor(10.6114, grad_fn=<NllLossBackward0>)\n"
     ]
    }
   ],
   "source": [
    "# load generated logits and target tokens into loss function\n",
    "cel_func = CrossEntropyLoss()\n",
    "prompt_tokens = data['X2']\n",
    "print('prompt_tokens: ', prompt_tokens, prompt_tokens.shape, prompt_tokens.dtype)\n",
    "\n",
    "target_tokens = data['X1']\n",
    "target_tokens.unsqueeze(0)\n",
    "print('target_tokens: ', target_tokens, target_tokens.shape, target_tokens.dtype)\n",
    "\n",
    "generated_tokens = out\n",
    "generated_tokens.unsqueeze(0)\n",
    "print('generated_tokens: ', generated_tokens.unsqueeze(0), generated_tokens.shape, generated_tokens.dtype)\n",
    "\n",
    "loss = cel_func(generated_tokens, target_tokens)\n",
    "print('loss: ', loss)"
   ]
  },
  {
   "cell_type": "code",
   "execution_count": 2,
   "id": "85bba839-481a-4aa8-8e88-ec83a0629029",
   "metadata": {
    "scrolled": true
   },
   "outputs": [
    {
     "name": "stdout",
     "output_type": "stream",
     "text": [
      "tinyshakes.txt loaded from saved file in ../gpt/data/\n",
      "tokens loaded from file ./data/tinyskakes_encoded.bin\n",
      "len(self.ds_idx):  1000\n",
      "data.nbytes:  676050\n",
      "CDataset created...\n",
      "CModel loaded...\n",
      "running model on gpu...\n",
      "\n",
      "...........................\n",
      "learning time: 0:00:09.459025\n",
      "epoch: 0, lr: 0.01\n",
      "train loss: 0.3185169868085576, val loss: 0.24910439716445076\n",
      "last targets: \n",
      "PAULINA:\n",
      "Pray you then,\n",
      "Conduct me to the queen.\n",
      "\n",
      "\n",
      "last predictions: \n",
      ",\n",
      "\n",
      "; the,., the: have have the.:? to and\n",
      ",\n",
      ":\n",
      " the and I the.\n",
      "\n",
      "\n",
      " I.:\n",
      ": the, you,\n",
      " and to to to\n",
      " is.\n",
      "\n",
      "\n",
      "\n",
      "...........................\n",
      "learning time: 0:00:25.915010\n",
      "epoch: 2, lr: 0.01\n",
      "train loss: 0.16534855893288536, val loss: 0.15757532086637285\n",
      "last targets: \n",
      " remember what I must be now!\n",
      "Swell'st thou, proud\n",
      "last predictions: \n",
      "IPOLAndO- I we as thee\n",
      "As ' my his, theseThe than is shall!\n",
      " come that I this at what's have they,\n",
      " come not was what I must be'd!\n",
      " meHow'st thou,That\n",
      "\n",
      "...........................\n",
      "learning time: 0:00:42.182358\n",
      "epoch: 4, lr: 0.01\n",
      "train loss: 0.11773500086247236, val loss: 0.12885239885913002\n",
      "last targets: \n",
      ".\n",
      "\n",
      "KATHARINA:\n",
      "Why, and I trust I may go too, may I\n",
      "last predictions: \n",
      " in goodShould up:\n",
      "And so these ourselves letarFirst that you may stay and\n",
      "For I have more to cause no with Bian earth...isENAR do:\n",
      "WhyBy and I she I may go too, shall,\n",
      "\n",
      "...........................\n",
      "learning time: 0:00:58.871583\n",
      "epoch: 6, lr: 0.01\n",
      "train loss: 0.09410424513378363, val loss: 0.11332924664020538\n",
      "last targets: \n",
      "d thee:\n",
      "Obey, and go with me; for thou must die.\n",
      "\n",
      "\n",
      "last predictions: \n",
      ".\n",
      " cannot thyPA as'd to thing, vile letterague!\n",
      " knewAM be into II than death father\n",
      "Yourem down Come, I do thy I:\n",
      "O great for and go with me; for thou mustEL.\n",
      "\n",
      "\n",
      "\n",
      "...........................\n",
      "learning time: 0:01:15.354341\n",
      "epoch: 8, lr: 0.01\n",
      "train loss: 0.08113010553107865, val loss: 0.10837304426564111\n",
      "last targets: \n",
      "o't.\n",
      "\n",
      "ISABELLA:\n",
      "This gentleman told somewhat of my\n",
      "last predictions: \n",
      "Be you. meanusLUCIO:\n",
      "I warrant she honour.\n",
      "\n",
      "D haveKE VINCENTIO:\n",
      "TheG for yourself; takere to't.,\n",
      "ISABELLA:\n",
      "This gentleman slain put have my\n",
      "\n",
      "...........................\n",
      "learning time: 0:01:25.170211\n",
      "last predictions: \n",
      "O:\n",
      "O master, myself'll I have watch'd so mortal\n",
      " the I am two- Ry: but at help I spied\n",
      "An since present coming down the foul,\n",
      "Will serve the turn yet\n",
      "\n",
      "TRAN it nerves\n",
      "last targets: \n",
      "oming down the hill,\n",
      "Will serve the turn.\n",
      "\n",
      "TRANIO:\n",
      "test loss: 0.1051241440905465 \n",
      "\n"
     ]
    },
    {
     "data": {
      "image/png": "[encoded data removed]",
      "text/plain": [
       "<Figure size 640x480 with 1 Axes>"
      ]
     },
     "metadata": {},
     "output_type": "display_data"
    }
   ],
   "source": [
    "# put all together in a learner\n",
    "ds_param = {'train_param': {'transforms': {'X1': [AsTensor()],\n",
    "                                           'X2': [AsTensor()]},\n",
    "                            'block_size': 50,\n",
    "                            'n': 1000}}\n",
    "\n",
    "model_param = {'device': 'cuda',\n",
    "               'd_model': 32, # matches embedding dimension\n",
    "               'd_vocab': 50304, # matches embedding vocab\n",
    "               'n_head': 4, \n",
    "               'num_layers': 3,\n",
    "               'linear_head': True,\n",
    "               'probs': False,\n",
    "               'tokens': False,\n",
    "               'transpose': True, \n",
    "               'embed_param': {'X1': (50304, 32, None, True),\n",
    "                               'X2': (50304, 32, None, True)}} \n",
    "                                       \n",
    "metrics_param = {'metric_name': 'transformer',\n",
    "                 'report_interval': 10,\n",
    "                 'log_plot': True,\n",
    "                 'min_lr': .005} # break if learning rate falls below                        \n",
    "             \n",
    "opt_param = {'lr': 0.01}\n",
    "\n",
    "crit_param = {}\n",
    "\n",
    "sample_param = {'set_seed': 88,\n",
    "                'splits': (.7,.15)}\n",
    "\n",
    "sched_param = {'factor': .5, \n",
    "               'patience': 2,\n",
    "               'cooldown': 2}\n",
    "\n",
    "learn = Learn([TinyShakes], \n",
    "              GPT,\n",
    "              Metrics=Metrics,\n",
    "              Sampler=Selector, \n",
    "              Optimizer=Adam, \n",
    "              Scheduler=ReduceLROnPlateau, \n",
    "              Criterion=CrossEntropyLoss,\n",
    "              model_param=model_param, ds_param=ds_param, sample_param=sample_param,\n",
    "              opt_param=opt_param, sched_param=sched_param, crit_param=crit_param,\n",
    "              metrics_param=metrics_param, \n",
    "              batch_size=24, epochs=10, gpu=True, squeeze_y_pred=True, \n",
    "              save_model='gpt_test_model', target='X1')"
   ]
  },
  {
   "cell_type": "code",
   "execution_count": 2,
   "id": "f741604a-078e-4156-8a8c-73ce10437b3b",
   "metadata": {},
   "outputs": [
    {
     "name": "stdout",
     "output_type": "stream",
     "text": [
      "tinyshakes.txt loaded from saved file in ../gpt/data/\n",
      "tokens loaded from file ./data/tinyskakes_encoded.bin\n",
      "len(self.ds_idx):  10\n",
      "data.nbytes:  676050\n",
      "CDataset created...\n",
      "CModel loaded...\n",
      "model loaded from state_dict...\n",
      "running model on gpu...\n",
      "\n",
      "...........................\n",
      "learning time: 0:00:00.931788\n",
      "last predictions: \n",
      " such whatWh song great high both ceremoniesNorCanLfulness finestling rich speedOL swearIC due bears at citizens self then rebellion blackEN prince CamMay tookwithPS one wickedSeeNor honourMay A courtciusELLPed G rememberNor remember stubborn\n",
      "inference 2024-12-11 10:48:20.256991 complete and saved to csv...\n"
     ]
    }
   ],
   "source": [
    "# inference\n",
    "ds_param = {'train_param': {'transforms': {'X1': [AsTensor()],\n",
    "                                           'X2': [AsTensor()]},\n",
    "                            'block_size': 50,\n",
    "                            'n': 10}}\n",
    "\n",
    "model_param = {'device': 'cuda',\n",
    "               'd_model': 32, # matches embedding dimension\n",
    "               'd_vocab': 50304, # matches embedding vocab\n",
    "               'n_head': 4, \n",
    "               'num_layers': 3,\n",
    "               'linear_head': True,\n",
    "               'probs': False,\n",
    "               'tokens': False,\n",
    "               'transpose': True, \n",
    "               'embed_param': {'X1': (50304, 32, None, True),\n",
    "                               'X2': (50304, 32, None, True)}} \n",
    "                                       \n",
    "metrics_param = {'metric_name': 'transformer',\n",
    "                 'report_interval': 10,\n",
    "                 'log_plot': True,\n",
    "                 'min_lr': .005} # break if learning rate falls below                        \n",
    "             \n",
    "opt_param = {'lr': 0.01}\n",
    "\n",
    "crit_param = {}\n",
    "\n",
    "sample_param = {'set_seed': 88,\n",
    "                'splits': (.7,.15)}\n",
    "\n",
    "sched_param = {'factor': .5, \n",
    "               'patience': 2,\n",
    "               'cooldown': 2}\n",
    "\n",
    "learn = Learn([TinyShakes], \n",
    "              GPT,\n",
    "              Metrics=Metrics,\n",
    "              Sampler=Selector, \n",
    "              Optimizer=Adam, \n",
    "              Scheduler=ReduceLROnPlateau, \n",
    "              Criterion=None,\n",
    "              model_param=model_param, ds_param=ds_param, sample_param=sample_param,\n",
    "              opt_param=opt_param, sched_param=sched_param, crit_param=crit_param,\n",
    "              metrics_param=metrics_param, \n",
    "              batch_size=100, epochs=2, gpu=True, squeeze_y_pred=True, \n",
    "              load_model='gpt_test_model.pth', target='X1')\n"
   ]
  },
  {
   "cell_type": "code",
   "execution_count": 3,
   "id": "b0dc08fc-addf-41e7-bcda-5964508e161d",
   "metadata": {},
   "outputs": [
    {
     "data": {
      "text/plain": [
       "[\"ixt whatOUWouldaring child both:' abuse fastLxy great fard dumpOLesred hose at fatheray thensent King lie end houses ne hopesendsCan heaven inSeeNor honour ne ATHcius holy Henryost remember part subjectENT\",\n",
       " ' such whatWh song great high both ceremoniesNorCanLfulness finestling rich speedOL swearIC due bears at citizens self then rebellion blackEN prince CamMay tookwithPS one wickedSeeNor honourMay A courtciusELLPed G rememberNor remember stubborn']"
      ]
     },
     "execution_count": 3,
     "metadata": {},
     "output_type": "execute_result"
    }
   ],
   "source": [
    "learn.metrics.predictions"
   ]
  },
  {
   "cell_type": "code",
   "execution_count": null,
   "id": "d593e521-4cab-4c48-841f-3c51c70ba118",
   "metadata": {},
   "outputs": [],
   "source": []
  }
 ],
 "metadata": {
  "kernelspec": {
   "display_name": "Python 3 (ipykernel)",
   "language": "python",
   "name": "python3"
  },
  "language_info": {
   "codemirror_mode": {
    "name": "ipython",
    "version": 3
   },
   "file_extension": ".py",
   "mimetype": "text/x-python",
   "name": "python",
   "nbconvert_exporter": "python",
   "pygments_lexer": "ipython3",
   "version": "3.12.5"
  }
 },
 "nbformat": 4,
 "nbformat_minor": 5
}
