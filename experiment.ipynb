{
 "cells": [
  {
   "cell_type": "code",
   "execution_count": 1,
   "id": "12cc4568-0e78-4f35-b487-726d32c90db7",
   "metadata": {},
   "outputs": [],
   "source": [
    "# This is an example GPT style decoder only transformer model and example dataset\n",
    "# This an example of the use of the icanswim/cosmosis repo for data science and \n",
    "# machine learning projects\n",
    "\n",
    "import sys # required for relative imports in jupyter lab\n",
    "sys.path.insert(0, '../')\n",
    "\n",
    "from dataset import TinyShakes\n",
    "\n",
    "from cosmosis.model import GPT\n",
    "from cosmosis.dataset import AsTensor\n",
    "from cosmosis.learning import Learn, Selector, Metrics\n",
    "\n",
    "from torch.nn import CrossEntropyLoss\n",
    "from torch.optim import Adam\n",
    "from torch.optim.lr_scheduler import ReduceLROnPlateau\n"
   ]
  },
  {
   "cell_type": "code",
   "execution_count": 2,
   "id": "0a41a7c0-4dfd-4eee-97d0-ff3be0ff68ea",
   "metadata": {
    "collapsed": true,
    "jupyter": {
     "outputs_hidden": true,
     "source_hidden": true
    }
   },
   "outputs": [
    {
     "name": "stdout",
     "output_type": "stream",
     "text": [
      "tinyshakes.txt loaded from saved file in ../gpt/data/\n",
      "tokens loaded from file ./data/tinyskakes_encoded.bin\n",
      "len(self.ds_idx):  1\n",
      "data.nbytes:  676050\n",
      "CDataset created...\n",
      "{'X1': tensor([ 5962, 22307,    25,   198,  8421,   356]), 'X2': tensor([22307,    25,   198,  8421,   356,  5120])}\n",
      "torch.Size([6])\n",
      "torch.Size([6])\n"
     ]
    }
   ],
   "source": [
    "ds_param = {'transforms': {'X1': [AsTensor()],\n",
    "                           'X2': [AsTensor()]},\n",
    "            'block_size': 6,\n",
    "            'n': 1}\n",
    "\n",
    "ts = TinyShakes(**ds_param)\n",
    "print(ts[0])\n",
    "print(ts[0]['X1'].shape)\n",
    "print(ts[0]['X2'].shape)"
   ]
  },
  {
   "cell_type": "code",
   "execution_count": 20,
   "id": "daa1bb37-3b07-4b1c-9fde-1ddf5f3c8c5b",
   "metadata": {
    "collapsed": true,
    "jupyter": {
     "outputs_hidden": true,
     "source_hidden": true
    }
   },
   "outputs": [
    {
     "name": "stdout",
     "output_type": "stream",
     "text": [
      "len(self.ds_idx):  1\n",
      "data.nbytes:  510\n",
      "CDataset created...\n",
      "{'X1': tensor([10919,  1657,   832,   331,  8623,  4324,   644,   220,   220,   220,\n",
      "          220,   220,   220,   220,   220,   220,   220,   220,   220,   220]), 'X2': tensor([1657,  832,  331, 8623, 4324,  644,  220,  220,  220,  220,  220,  220,\n",
      "         220,  220,  220,  220,  220,  220,  220,  220])}\n",
      "torch.Size([20])\n",
      "torch.Size([20])\n"
     ]
    }
   ],
   "source": [
    "ds_param = {'transforms': {'X1': [AsTensor()],\n",
    "                           'X2': [AsTensor()]},\n",
    "            'block_size': 20,\n",
    "            'prompt': 'All the worlds a stage and all the men and women merely'}\n",
    "\n",
    "ts_infer = TinyShakes(**ds_param)\n",
    "print(ts_infer[0])\n",
    "print(ts_infer[0]['X1'].shape)\n",
    "print(ts_infer[0]['X2'].shape)"
   ]
  },
  {
   "cell_type": "code",
   "execution_count": 4,
   "id": "ce655299-cf77-45d5-a5a9-40a562816828",
   "metadata": {
    "collapsed": true,
    "jupyter": {
     "outputs_hidden": true,
     "source_hidden": true
    }
   },
   "outputs": [
    {
     "name": "stdout",
     "output_type": "stream",
     "text": [
      "CModel loaded...\n"
     ]
    }
   ],
   "source": [
    "# load model\n",
    "model_param = {'device': 'cpu',\n",
    "               'd_model': 32, # matches embedding dimension\n",
    "               'd_vocab': 50304, # matches embedding vocab\n",
    "               'n_head': 2, \n",
    "               'num_layers': 2,\n",
    "               'linear_head': True,\n",
    "               'probs': False, # softmax\n",
    "               'tokens': False, # multinomial\n",
    "               'transpose': False, \n",
    "               'embed_param': {'X1': (50304, 32, None, True),\n",
    "                               'X2': (50304, 32, None, True)}} \n",
    "\n",
    "gpt = GPT(model_param)"
   ]
  },
  {
   "cell_type": "code",
   "execution_count": 5,
   "id": "b9906fb4-873c-44c8-9604-3f94c69b4bc2",
   "metadata": {
    "collapsed": true,
    "jupyter": {
     "outputs_hidden": true,
     "source_hidden": true
    }
   },
   "outputs": [
    {
     "name": "stdout",
     "output_type": "stream",
     "text": [
      "tensor([[ 0.2514,  0.0000, -0.0400,  ..., -0.7752,  1.4809,  0.0000],\n",
      "        [-0.7551,  0.3159, -0.8596,  ..., -0.1780,  1.1089,  0.4158],\n",
      "        [-0.8491,  0.2715, -0.5409,  ...,  0.3434,  0.2263, -0.8506],\n",
      "        [-0.1524,  0.4755, -0.9839,  ...,  0.4668,  0.6346,  1.1039],\n",
      "        [ 0.6630, -0.2519, -0.5125,  ..., -0.1951,  0.7733,  1.4637],\n",
      "        [ 0.8072, -1.0922,  0.3838,  ..., -0.4841, -0.4446,  0.3541]],\n",
      "       grad_fn=<MulBackward0>)\n",
      "torch.Size([6, 50304])\n",
      "torch.float32\n"
     ]
    }
   ],
   "source": [
    "# load single data example into model and examine output\n",
    "data = ts_infer[0]\n",
    "out = gpt(data)\n",
    "print(out)\n",
    "print(out.shape)\n",
    "print(out.dtype)"
   ]
  },
  {
   "cell_type": "code",
   "execution_count": 6,
   "id": "ece293e8-8433-4920-9200-c6c707cbf478",
   "metadata": {
    "collapsed": true,
    "jupyter": {
     "outputs_hidden": true,
     "source_hidden": true
    }
   },
   "outputs": [
    {
     "name": "stdout",
     "output_type": "stream",
     "text": [
      "prompt_tokens:  tensor([362, 513, 604, 642, 718, 767]) torch.Size([6]) torch.int64\n",
      "target_tokens:  tensor([ 16, 362, 513, 604, 642, 718]) torch.Size([6]) torch.int64\n",
      "generated_tokens:  tensor([[[ 0.2514,  0.0000, -0.0400,  ..., -0.7752,  1.4809,  0.0000],\n",
      "         [-0.7551,  0.3159, -0.8596,  ..., -0.1780,  1.1089,  0.4158],\n",
      "         [-0.8491,  0.2715, -0.5409,  ...,  0.3434,  0.2263, -0.8506],\n",
      "         [-0.1524,  0.4755, -0.9839,  ...,  0.4668,  0.6346,  1.1039],\n",
      "         [ 0.6630, -0.2519, -0.5125,  ..., -0.1951,  0.7733,  1.4637],\n",
      "         [ 0.8072, -1.0922,  0.3838,  ..., -0.4841, -0.4446,  0.3541]]],\n",
      "       grad_fn=<UnsqueezeBackward0>) torch.Size([6, 50304]) torch.float32\n",
      "loss:  tensor(10.6567, grad_fn=<NllLossBackward0>)\n"
     ]
    }
   ],
   "source": [
    "# load generated logits and target tokens into loss function\n",
    "cel_func = CrossEntropyLoss()\n",
    "prompt_tokens = data['X2']\n",
    "print('prompt_tokens: ', prompt_tokens, prompt_tokens.shape, prompt_tokens.dtype)\n",
    "\n",
    "target_tokens = data['X1']\n",
    "target_tokens.unsqueeze(0)\n",
    "print('target_tokens: ', target_tokens, target_tokens.shape, target_tokens.dtype)\n",
    "\n",
    "generated_tokens = out\n",
    "generated_tokens.unsqueeze(0)\n",
    "print('generated_tokens: ', generated_tokens.unsqueeze(0), generated_tokens.shape, generated_tokens.dtype)\n",
    "\n",
    "loss = cel_func(generated_tokens, target_tokens)\n",
    "print('loss: ', loss)"
   ]
  },
  {
   "cell_type": "code",
   "execution_count": 2,
   "id": "85bba839-481a-4aa8-8e88-ec83a0629029",
   "metadata": {
    "scrolled": true
   },
   "outputs": [
    {
     "name": "stdout",
     "output_type": "stream",
     "text": [
      "tinyshakes.txt loaded from saved file in ../gpt/data/\n",
      "tokens loaded from file ./data/tinyskakes_encoded.bin\n",
      "len(self.ds_idx):  2000\n",
      "data.nbytes:  676050\n",
      "CDataset created...\n",
      "CModel loaded...\n",
      "running model on gpu...\n",
      "\n",
      "...........................\n",
      "learning time: 0:00:11.380678\n",
      "epoch: 0, lr: 0.01\n",
      "train loss: 0.4276858068060601, val loss: 0.3173290623558892\n",
      "\n",
      "last targets: \n",
      " believe, yet I mistrust.\n",
      "\n",
      "LUCENTIO:\n",
      "Mistrust it not: for, sure, AEacides\n",
      "Was Ajax,\n",
      "\n",
      "last predictions: \n",
      "\n",
      "'sI,\n",
      "\n",
      "\n",
      "...........................\n",
      "learning time: 0:00:21.769856\n",
      "epoch: 1, lr: 0.01\n",
      "train loss: 0.2734254925757989, val loss: 0.2569601560632388\n",
      "\n",
      "last targets: \n",
      " bring\n",
      "My tongue to such a pace:--'Look, sir, my wounds!\n",
      "I got them in my country's service, when\n",
      "\n",
      "\n",
      "last predictions: \n",
      " for\n",
      "\n",
      "\n",
      "\n",
      "...........................\n",
      "learning time: 0:00:32.056250\n",
      "epoch: 2, lr: 0.01\n",
      "train loss: 0.22765984566047273, val loss: 0.23221813721789253\n",
      "\n",
      "last targets: \n",
      "ARET:\n",
      "O, kill me too!\n",
      "\n",
      "GLOUCESTER:\n",
      "Marry, and shall.\n",
      "\n",
      "KING EDWARD\n",
      "\n",
      "last predictions: \n",
      "shall\n",
      "\n",
      "\n",
      "...........................\n",
      "learning time: 0:00:42.390287\n",
      "epoch: 3, lr: 0.01\n",
      "train loss: 0.20503583516197643, val loss: 0.22413955297735003\n",
      "\n",
      "last targets: \n",
      " not, my lord, we will not stand to prate;\n",
      "Talkers are no good doers: be assured\n",
      "We come to use our\n",
      "\n",
      "last predictions: \n",
      "n our\n",
      "\n",
      "\n",
      "...........................\n",
      "learning time: 0:00:52.786622\n",
      "epoch: 4, lr: 0.01\n",
      "train loss: 0.1873798438872414, val loss: 0.21132446908288532\n",
      "\n",
      "last targets: \n",
      "\n",
      "I' faith, I am sorry that thou art not well.\n",
      "Sweet, sweet, sweet nurse, tell me, what says my love?\n",
      "\n",
      "last predictions: \n",
      "love?\n",
      "\n",
      "\n",
      "...........................\n",
      "learning time: 0:01:03.212649\n",
      "epoch: 5, lr: 0.01\n",
      "train loss: 0.17368978998441806, val loss: 0.20399143381251228\n",
      "\n",
      "last targets: \n",
      " choosing me when Clarence is in place.\n",
      "\n",
      "CLARENCE:\n",
      "No, Warwick, thou art worthy of the sway,\n",
      "To whom the\n",
      "\n",
      "last predictions: \n",
      "ight\n",
      "\n",
      "\n",
      "\n",
      "...........................\n",
      "learning time: 0:01:13.496323\n",
      "epoch: 6, lr: 0.01\n",
      "train loss: 0.16568497662571655, val loss: 0.20781401130888197\n",
      "\n",
      "last targets: \n",
      "th tricks eleven and twenty long,\n",
      "To tame a shrew and charm her chattering tongue.\n",
      "\n",
      "BIONDELLO:\n",
      "O master\n",
      "\n",
      "last predictions: \n",
      "aster\n",
      "\n",
      "\n",
      "...........................\n",
      "learning time: 0:01:23.841490\n",
      "epoch: 7, lr: 0.01\n",
      "train loss: 0.15891888223845382, val loss: 0.19975580357842976\n",
      "\n",
      "last targets: \n",
      "And so, good Capulet,--which name I tender\n",
      "As dearly as my own,--be satisfied.\n",
      "\n",
      "MERCUTIO:\n",
      "\n",
      "last predictions: \n",
      "UTIO:\n",
      "\n",
      "\n",
      "...........................\n",
      "learning time: 0:01:34.301095\n",
      "epoch: 8, lr: 0.01\n",
      "train loss: 0.15272865804104968, val loss: 0.19552789794074166\n",
      "\n",
      "last targets: \n",
      " reason to look pale and dead?\n",
      "All souls that will be safe fly from my side,\n",
      "For time hath set a blot upon my pride.\n",
      "\n",
      "last predictions: \n",
      "ters.\n",
      "\n",
      "\n",
      "...........................\n",
      "learning time: 0:01:44.677557\n",
      "epoch: 9, lr: 0.01\n",
      "train loss: 0.14596818104900164, val loss: 0.19382605370548037\n",
      "\n",
      "last targets: \n",
      "?\n",
      "\n",
      "ISABELLA:\n",
      "Yes, truly; I speak not as desiring more;\n",
      "But rather wishing a more strict restraint\n",
      "\n",
      "\n",
      "last predictions: \n",
      "eWhy\n",
      "\n",
      "\n",
      "\n",
      "...........................\n",
      "learning time: 0:01:46.258360\n",
      "last predictions: \n",
      "YouUL\n",
      "\n",
      "last targets: \n",
      " alive\n",
      "I never yet beheld that special face\n",
      "Which I could fancy more than any other.\n",
      "\n",
      "KATHARINA:\n",
      "Minion\n",
      "test loss: 0.1925036774741279 \n",
      "\n"
     ]
    },
    {
     "data": {
      "image/png": "[encoded data removed]",
      "text/plain": [
       "<Figure size 640x480 with 1 Axes>"
      ]
     },
     "metadata": {},
     "output_type": "display_data"
    }
   ],
   "source": [
    "# put all together in a learner\n",
    "ds_param = {'train_param': {'transforms': {'X1': [AsTensor()],\n",
    "                                           'X2': [AsTensor()]},\n",
    "                            'block_size': 30,\n",
    "                            'n': 2000}}\n",
    "\n",
    "model_param = {'device': 'cuda',\n",
    "               'd_model': 16, # matches embedding dimension\n",
    "               'd_vocab': 50304, # matches embedding vocab\n",
    "               'n_head': 4, \n",
    "               'num_layers': 3,\n",
    "               'linear_head': True,\n",
    "               'probs': False,\n",
    "               'tokens': False,\n",
    "               'transpose': True, \n",
    "               'embed_param': {'X1': (50304, 16, None, True),\n",
    "                               'X2': (50304, 16, None, True)}} \n",
    "                                       \n",
    "metrics_param = {'metric_name': 'transformer',\n",
    "                 'report_interval': 10,\n",
    "                 'log_plot': True,\n",
    "                 'min_lr': .005} # break if learning rate falls below                        \n",
    "             \n",
    "opt_param = {'lr': 0.01}\n",
    "\n",
    "crit_param = {}\n",
    "\n",
    "sample_param = {'set_seed': 88,\n",
    "                'splits': (.7,.15)}\n",
    "\n",
    "sched_param = {'factor': .5, \n",
    "               'patience': 2,\n",
    "               'cooldown': 2}\n",
    "\n",
    "learn = Learn([TinyShakes], \n",
    "              GPT,\n",
    "              Metrics=Metrics,\n",
    "              Sampler=Selector, \n",
    "              Optimizer=Adam, \n",
    "              Scheduler=ReduceLROnPlateau, \n",
    "              Criterion=CrossEntropyLoss,\n",
    "              model_param=model_param, ds_param=ds_param, sample_param=sample_param,\n",
    "              opt_param=opt_param, sched_param=sched_param, crit_param=crit_param,\n",
    "              metrics_param=metrics_param, \n",
    "              batch_size=16, epochs=10, gpu=True, squeeze_y_pred=True, \n",
    "              save_model='gpt_test_model', target='X1')"
   ]
  },
  {
   "cell_type": "code",
   "execution_count": 6,
   "id": "f741604a-078e-4156-8a8c-73ce10437b3b",
   "metadata": {},
   "outputs": [
    {
     "name": "stdout",
     "output_type": "stream",
     "text": [
      "len(self.ds_idx):  1\n",
      "data.nbytes:  24\n",
      "CDataset created...\n",
      "CModel loaded...\n",
      "model loaded from state_dict...\n",
      "running model on gpu...\n",
      "\n",
      "...........................\n",
      "learning time: 0:00:00.080399\n",
      "last predictions: \n",
      "lmost\n",
      "\n",
      "inference 2024-12-28 20:19:55.622229 complete and saved to csv...\n"
     ]
    }
   ],
   "source": [
    "# inference\n",
    "ds_param = {'train_param': {'transforms': {'X1': [AsTensor()],\n",
    "                                           'X2': [AsTensor()]},\n",
    "                            'block_size': 10,\n",
    "                            'prompt': 'All the worlds a stage and all the men and women merely'}}\n",
    "\n",
    "model_param = {'device': 'cuda',\n",
    "               'd_model': 16, # matches embedding dimension\n",
    "               'd_vocab': 50304, # matches embedding vocab\n",
    "               'n_head': 4, \n",
    "               'num_layers': 3,\n",
    "               'linear_head': True,\n",
    "               'probs': False,\n",
    "               'tokens': False,\n",
    "               'transpose': True, \n",
    "               'embed_param': {'X1': (50304, 16, None, True),\n",
    "                               'X2': (50304, 16, None, True)}} \n",
    "\n",
    "                                       \n",
    "metrics_param = {'metric_name': 'transformer',\n",
    "                 'report_interval': 10,\n",
    "                 'log_plot': True,\n",
    "                 'min_lr': .005} # break if learning rate falls below                        \n",
    "             \n",
    "opt_param = {'lr': 0.01}\n",
    "\n",
    "crit_param = {}\n",
    "\n",
    "sample_param = {'set_seed': 88,\n",
    "                'splits': (.7,.15)}\n",
    "\n",
    "sched_param = {'factor': .5, \n",
    "               'patience': 2,\n",
    "               'cooldown': 2}\n",
    "\n",
    "learn = Learn([TinyShakes], \n",
    "              GPT,\n",
    "              Metrics=Metrics,\n",
    "              Sampler=Selector, \n",
    "              Optimizer=Adam, \n",
    "              Scheduler=ReduceLROnPlateau, \n",
    "              Criterion=None,\n",
    "              model_param=model_param, ds_param=ds_param, sample_param=sample_param,\n",
    "              opt_param=opt_param, sched_param=sched_param, crit_param=crit_param,\n",
    "              metrics_param=metrics_param, \n",
    "              batch_size=1, epochs=3, gpu=True, squeeze_y_pred=True, \n",
    "              load_model='gpt_test_model.pth', target='X1')\n"
   ]
  },
  {
   "cell_type": "code",
   "execution_count": 4,
   "id": "b0dc08fc-addf-41e7-bcda-5964508e161d",
   "metadata": {},
   "outputs": [
    {
     "data": {
      "text/plain": [
       "[' amongstad bear their here motherCAPakes these mother',\n",
       " ' hisad were their here encounterCAPA theseSh',\n",
       " ' very presM things than motherestad fromCI']"
      ]
     },
     "execution_count": 4,
     "metadata": {},
     "output_type": "execute_result"
    }
   ],
   "source": [
    "learn.metrics.predictions"
   ]
  },
  {
   "cell_type": "code",
   "execution_count": null,
   "id": "51656cf2-5d52-42f2-b815-0403fdf53f2e",
   "metadata": {},
   "outputs": [],
   "source": []
  }
 ],
 "metadata": {
  "kernelspec": {
   "display_name": "Python 3 (ipykernel)",
   "language": "python",
   "name": "python3"
  },
  "language_info": {
   "codemirror_mode": {
    "name": "ipython",
    "version": 3
   },
   "file_extension": ".py",
   "mimetype": "text/x-python",
   "name": "python",
   "nbconvert_exporter": "python",
   "pygments_lexer": "ipython3",
   "version": "3.12.5"
  }
 },
 "nbformat": 4,
 "nbformat_minor": 5
}
