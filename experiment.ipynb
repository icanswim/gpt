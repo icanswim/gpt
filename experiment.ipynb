{
 "cells": [
  {
   "cell_type": "code",
   "execution_count": 1,
   "id": "12cc4568-0e78-4f35-b487-726d32c90db7",
   "metadata": {},
   "outputs": [],
   "source": [
    "# This is an example GPT style decoder only transformer model and example dataset\n",
    "# This an example of the use of the icanswim/cosmosis repo for data science and \n",
    "# machine learning projects\n",
    "\n",
    "import sys # required for relative imports in jupyter lab\n",
    "sys.path.insert(0, '../')\n",
    "\n",
    "from dataset import TinyShakes\n",
    "\n",
    "from cosmosis.model import GPT\n",
    "from cosmosis.dataset import AsTensor\n",
    "from cosmosis.learning import Learn, Selector, Metrics\n",
    "\n",
    "from torch.nn import CrossEntropyLoss\n",
    "from torch.optim import Adam\n",
    "from torch.optim.lr_scheduler import ReduceLROnPlateau\n"
   ]
  },
  {
   "cell_type": "code",
   "execution_count": 2,
   "id": "aba9ed73-8877-4149-a67d-e06dc33654f4",
   "metadata": {},
   "outputs": [
    {
     "name": "stdout",
     "output_type": "stream",
     "text": [
      "tinyshakes.txt loaded from saved file in ../gpt/data/\n",
      "tokens loaded from file ./data/tinyskakes_encoded.bin\n",
      "len(self.ds_idx):  338015\n",
      "data.nbytes:  676050\n",
      "CDataset created...\n"
     ]
    }
   ],
   "source": [
    "# load dataset\n",
    "ds_param = {'transforms': {'X1': [AsTensor()], # target\n",
    "                           'X2': [AsTensor()]},\n",
    "            'block_size': 10}\n",
    "\n",
    "ts = TinyShakes(**ds_param)"
   ]
  },
  {
   "cell_type": "code",
   "execution_count": 3,
   "id": "8bb7d809-8f62-46a9-bc3c-881bc34e2959",
   "metadata": {},
   "outputs": [
    {
     "name": "stdout",
     "output_type": "stream",
     "text": [
      "{'X1': tensor([ 198, 1169, 3595,   13, 1002,  262, 9976, 4483,  514,  407]), 'X2': tensor([1169, 3595,   13, 1002,  262, 9976, 4483,  514,  407,  510])}\n",
      "torch.Size([10])\n",
      "<class 'torch.Tensor'>\n",
      "torch.int64\n"
     ]
    }
   ],
   "source": [
    "# examine dataset\n",
    "data = ts[1000]\n",
    "\n",
    "print(data)\n",
    "print(data['X1'].shape)\n",
    "print(type(data['X1']))\n",
    "print(data['X1'].dtype)"
   ]
  },
  {
   "cell_type": "code",
   "execution_count": 4,
   "id": "ce655299-cf77-45d5-a5a9-40a562816828",
   "metadata": {},
   "outputs": [
    {
     "name": "stdout",
     "output_type": "stream",
     "text": [
      "CModel loaded...\n"
     ]
    }
   ],
   "source": [
    "# load model\n",
    "model_param = {'device': 'cpu',\n",
    "               'd_model': 8, # matches embedding dimension\n",
    "               'd_vocab': 50304, # matches embedding vocab\n",
    "               'n_head': 2, \n",
    "               'num_layers': 2,\n",
    "               'linear_head': True,\n",
    "               'probs': False, # softmax\n",
    "               'tokens': False, # multinomial\n",
    "               'transpose': False, \n",
    "               'embed_param': {'X1': (50304, 8, None, True),\n",
    "                               'X2': (50304, 8, None, True)}} \n",
    "\n",
    "gpt = GPT(model_param)"
   ]
  },
  {
   "cell_type": "code",
   "execution_count": 5,
   "id": "b9906fb4-873c-44c8-9604-3f94c69b4bc2",
   "metadata": {},
   "outputs": [
    {
     "name": "stdout",
     "output_type": "stream",
     "text": [
      "tensor([[-0.7371,  0.0000,  0.6966,  ...,  0.2625, -0.3137, -0.2648],\n",
      "        [ 1.3190,  0.2147, -0.2437,  ...,  0.0222, -0.1094, -0.2302],\n",
      "        [ 0.6490,  0.5898,  0.5312,  ..., -0.1855, -0.3606, -0.4096],\n",
      "        ...,\n",
      "        [-0.7966, -0.3374,  0.8750,  ..., -0.1090,  0.0000, -0.0000],\n",
      "        [ 0.9414,  0.2190,  0.0000,  ..., -0.6803, -0.0950, -0.7418],\n",
      "        [-0.0000, -0.1787,  1.0448,  ..., -1.2817,  0.0326, -1.3436]],\n",
      "       grad_fn=<MulBackward0>)\n",
      "torch.Size([10, 50304])\n",
      "torch.float32\n"
     ]
    }
   ],
   "source": [
    "# load single data example into model and examine output\n",
    "out = gpt(data)\n",
    "print(out)\n",
    "print(out.shape)\n",
    "print(out.dtype)"
   ]
  },
  {
   "cell_type": "code",
   "execution_count": 6,
   "id": "ece293e8-8433-4920-9200-c6c707cbf478",
   "metadata": {},
   "outputs": [
    {
     "name": "stdout",
     "output_type": "stream",
     "text": [
      "prompt_tokens:  tensor([1169, 3595,   13, 1002,  262, 9976, 4483,  514,  407,  510]) torch.Size([10]) torch.int64\n",
      "target_tokens:  tensor([ 198, 1169, 3595,   13, 1002,  262, 9976, 4483,  514,  407]) torch.Size([10]) torch.int64\n",
      "generated_tokens:  tensor([[[-0.7371,  0.0000,  0.6966,  ...,  0.2625, -0.3137, -0.2648],\n",
      "         [ 1.3190,  0.2147, -0.2437,  ...,  0.0222, -0.1094, -0.2302],\n",
      "         [ 0.6490,  0.5898,  0.5312,  ..., -0.1855, -0.3606, -0.4096],\n",
      "         ...,\n",
      "         [-0.7966, -0.3374,  0.8750,  ..., -0.1090,  0.0000, -0.0000],\n",
      "         [ 0.9414,  0.2190,  0.0000,  ..., -0.6803, -0.0950, -0.7418],\n",
      "         [-0.0000, -0.1787,  1.0448,  ..., -1.2817,  0.0326, -1.3436]]],\n",
      "       grad_fn=<UnsqueezeBackward0>) torch.Size([10, 50304]) torch.float32\n",
      "loss:  tensor(10.9145, grad_fn=<NllLossBackward0>)\n"
     ]
    }
   ],
   "source": [
    "# load generated logits and target tokens into loss function\n",
    "cel_func = CrossEntropyLoss()\n",
    "prompt_tokens = data['X2']\n",
    "print('prompt_tokens: ', prompt_tokens, prompt_tokens.shape, prompt_tokens.dtype)\n",
    "\n",
    "target_tokens = data['X1']\n",
    "target_tokens.unsqueeze(0)\n",
    "print('target_tokens: ', target_tokens, target_tokens.shape, target_tokens.dtype)\n",
    "\n",
    "generated_tokens = out\n",
    "generated_tokens.unsqueeze(0)\n",
    "print('generated_tokens: ', generated_tokens.unsqueeze(0), generated_tokens.shape, generated_tokens.dtype)\n",
    "\n",
    "loss = cel_func(generated_tokens, target_tokens)\n",
    "print('loss: ', loss)"
   ]
  },
  {
   "cell_type": "code",
   "execution_count": 7,
   "id": "85bba839-481a-4aa8-8e88-ec83a0629029",
   "metadata": {},
   "outputs": [
    {
     "name": "stdout",
     "output_type": "stream",
     "text": [
      "tinyshakes.txt loaded from saved file in ../gpt/data/\n",
      "tokens loaded from file ./data/tinyskakes_encoded.bin\n",
      "len(self.ds_idx):  1000\n",
      "data.nbytes:  676050\n",
      "CDataset created...\n",
      "CModel loaded...\n",
      "running model on gpu...\n",
      "\n",
      "...........................\n",
      "learning time: 0:00:09.119500\n",
      "epoch: 0, lr: 0.01\n",
      "train loss: 0.31699543300716354, val loss: 0.25486904713842606\n",
      "last targets: \n",
      "Thy mother rather feel thy pride than fear\n",
      "Thy dangerous stoutness, for I mock at death\n",
      "With as big heart as thou. Do as thou list\n",
      "Thy valiantness was mine, thou suck'dst it from me,\n",
      "\n",
      "last predictions: \n",
      ",:. in:.:,!\n",
      ",: the, the,\n",
      "\n",
      " to..\n",
      ".\n",
      " the.\n",
      ",: the\n",
      ",.\n",
      ",:. of\n",
      ",; to I\n",
      ",\n",
      " and:,-\n",
      "\n",
      "...........................\n",
      "learning time: 0:00:24.750151\n",
      "epoch: 2, lr: 0.01\n",
      "train loss: 0.19351237943802757, val loss: 0.19343719548649257\n",
      "last targets: \n",
      "FORD:\n",
      "Ay, for if Edward repossess the crown,\n",
      "'Tis like that Richmond with the rest shall down.\n",
      "\n",
      "SOMERSET:\n",
      "It shall be so; he shall to Brittany.\n",
      "Come, therefore\n",
      "last predictions: \n",
      ".?:\n",
      " thy,\n",
      " is thou if your our the thou, for? or my in that thou the the her thou thy.\n",
      "\n",
      " is in hath to:\n",
      " in shall the so for he shall toOL. I to, thy\n",
      "\n",
      "...........................\n",
      "learning time: 0:00:40.566627\n",
      "epoch: 4, lr: 0.01\n",
      "train loss: 0.14183745610302892, val loss: 0.15136217408710056\n",
      "last targets: \n",
      "That living mortals, hearing them, run mad:--\n",
      "O, if I wake, shall I not be distraught,\n",
      "Environed with all these hideous fears?\n",
      "And madly play with my forefather's joints?\n",
      "And pluck\n",
      "last predictions: \n",
      "That didUM,J them,er mad:--\n",
      "O, if I o, shall I not be such,\n",
      " father fed with world these makes thus?\n",
      "And madlyET with my thusO's--?\n",
      "And's '\n",
      "\n",
      "...........................\n",
      "learning time: 0:00:56.520181\n",
      "epoch: 6, lr: 0.01\n",
      "train loss: 0.10794917399855866, val loss: 0.1312771886587143\n",
      "last targets: \n",
      " her at my cell till Romeo come;\n",
      "Poor living corse, closed in a dead man's tomb!\n",
      "\n",
      "PARIS:\n",
      "Give me thy torch, boy: hence, and stand aloof:\n",
      "Yet put it out, for I\n",
      "last predictions: \n",
      " her you myt on Romeo come; thetis did metTR,t in a dead man'sU!\n",
      "\n",
      " fresIS:\n",
      " tell me thy best, tell: help, and stand artYour:\n",
      "Yet news her out, those I\n",
      "\n",
      "...........................\n",
      "learning time: 0:01:12.442339\n",
      "epoch: 8, lr: 0.01\n",
      "train loss: 0.0920555499093286, val loss: 0.12011345227559407\n",
      "last targets: \n",
      " may deserve your loves.\n",
      "\n",
      "Second Citizen:\n",
      "Amen, sir: to my poor unworthy notice,\n",
      "He mock'd us when he begg'd our voices.\n",
      "\n",
      "Third Citizen:\n",
      "Certainly\n",
      "He flouted us downright.\n",
      "\n",
      "\n",
      "last predictions: \n",
      " may where your send.\n",
      "\n",
      "Second Citizen:\n",
      "Amen, sir: to my poor fighta,\n",
      "He thank'd us when he eyes'd oured.\n",
      "\n",
      "Third Citizen:\n",
      "'ll\n",
      "He fl say us there.\n",
      "\n",
      "\n",
      "test loss: 0.11115536590417226\n",
      "\n",
      "...........................\n",
      "learning time: 0:01:21.520569\n",
      "last targets: \n",
      "\n",
      "\n",
      "JULIET:\n",
      "I'll look to like, if looking liking move:\n",
      "But no more deep will I endart mine eye\n",
      "Than your consent gives strength to make it fly.\n",
      "\n",
      "Servant:\n",
      "Madam\n",
      "last predictions: \n",
      "\n",
      "\n",
      "JULIET:\n",
      "I'll look to in,lict What gloryUMI\n",
      "But no more deep will I endart mine eye\n",
      "Than your consent condemn ED to make it fly.\n",
      "\n",
      "Servant:\n",
      "Madam\n"
     ]
    },
    {
     "data": {
      "image/png": "[encoded data removed]",
      "text/plain": [
       "<Figure size 640x480 with 1 Axes>"
      ]
     },
     "metadata": {},
     "output_type": "display_data"
    }
   ],
   "source": [
    "# put all together in a learner\n",
    "ds_param = {'train_param': {'transforms': {'X1': [AsTensor()],\n",
    "                                           'X2': [AsTensor()]},\n",
    "                            'block_size': 50,\n",
    "                            'n': 1000}}\n",
    "\n",
    "model_param = {'device': 'cuda',\n",
    "               'd_model': 32, # matches embedding dimension\n",
    "               'd_vocab': 50304, # matches embedding vocab\n",
    "               'n_head': 4, \n",
    "               'num_layers': 3,\n",
    "               'linear_head': True,\n",
    "               'probs': False,\n",
    "               'tokens': False,\n",
    "               'transpose': True, \n",
    "               'embed_param': {'X1': (50304, 32, None, True),\n",
    "                               'X2': (50304, 32, None, True)}} \n",
    "                                       \n",
    "metrics_param = {'metric_name': 'transformer',\n",
    "                 'report_interval': 10,\n",
    "                 'log_plot': True,\n",
    "                 'min_lr': .005} # break if learning rate falls below                        \n",
    "             \n",
    "opt_param = {'lr': 0.01}\n",
    "\n",
    "crit_param = {}\n",
    "\n",
    "sample_param = {'set_seed': 88,\n",
    "                'splits': (.7,.15)}\n",
    "\n",
    "sched_param = {'factor': .5, \n",
    "               'patience': 2,\n",
    "               'cooldown': 2}\n",
    "\n",
    "learn = Learn([TinyShakes], \n",
    "              GPT,\n",
    "              Metrics=Metrics,\n",
    "              Sampler=Selector, \n",
    "              Optimizer=Adam, \n",
    "              Scheduler=ReduceLROnPlateau, \n",
    "              Criterion=CrossEntropyLoss,\n",
    "              model_param=model_param, ds_param=ds_param, sample_param=sample_param,\n",
    "              opt_param=opt_param, sched_param=sched_param, crit_param=crit_param,\n",
    "              metrics_param=metrics_param, \n",
    "              batch_size=24, epochs=10, gpu=True, squeeze_y_pred=True, target='X1')"
   ]
  },
  {
   "cell_type": "code",
   "execution_count": null,
   "id": "b0dc08fc-addf-41e7-bcda-5964508e161d",
   "metadata": {},
   "outputs": [],
   "source": []
  },
  {
   "cell_type": "code",
   "execution_count": null,
   "id": "6fe27c87-fd7a-47a1-96bb-6ba9d8d574e4",
   "metadata": {},
   "outputs": [],
   "source": []
  }
 ],
 "metadata": {
  "kernelspec": {
   "display_name": "Python 3 (ipykernel)",
   "language": "python",
   "name": "python3"
  },
  "language_info": {
   "codemirror_mode": {
    "name": "ipython",
    "version": 3
   },
   "file_extension": ".py",
   "mimetype": "text/x-python",
   "name": "python",
   "nbconvert_exporter": "python",
   "pygments_lexer": "ipython3",
   "version": "3.12.5"
  }
 },
 "nbformat": 4,
 "nbformat_minor": 5
}
