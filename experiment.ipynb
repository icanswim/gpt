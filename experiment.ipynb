{
 "cells": [
  {
   "cell_type": "code",
   "execution_count": 1,
   "id": "12cc4568-0e78-4f35-b487-726d32c90db7",
   "metadata": {},
   "outputs": [],
   "source": [
    "from dataset import TinyShakes"
   ]
  },
  {
   "cell_type": "code",
   "execution_count": 2,
   "id": "aba9ed73-8877-4149-a67d-e06dc33654f4",
   "metadata": {},
   "outputs": [
    {
     "name": "stdout",
     "output_type": "stream",
     "text": [
      "tokens loaded from file ./data/encoded.bin\n",
      "CDataset created...\n"
     ]
    }
   ],
   "source": [
    "ts = TinyShakes()"
   ]
  },
  {
   "cell_type": "code",
   "execution_count": 3,
   "id": "8bb7d809-8f62-46a9-bc3c-881bc34e2959",
   "metadata": {},
   "outputs": [
    {
     "name": "stdout",
     "output_type": "stream",
     "text": [
      "X.shape:  torch.Size([3, 5])\n",
      "tensor([[ 3421,   284, 44570,  8292,    11],\n",
      "        [  557,   284, 15939,   416,   502],\n",
      "        [  550,   517, 21213,   618,   314]])\n",
      "y.shape:  torch.Size([3, 5])\n",
      "tensor([[  284, 44570,  8292,    11,   198],\n",
      "        [  284, 15939,   416,   502,    13],\n",
      "        [  517, 21213,   618,   314,   938]])\n"
     ]
    }
   ],
   "source": [
    "X, y = ts[1]\n",
    "print('X.shape: ', X.shape)\n",
    "print(X)\n",
    "print('y.shape: ', y.shape)\n",
    "print(y)"
   ]
  },
  {
   "cell_type": "code",
   "execution_count": null,
   "id": "ce655299-cf77-45d5-a5a9-40a562816828",
   "metadata": {},
   "outputs": [],
   "source": []
  }
 ],
 "metadata": {
  "kernelspec": {
   "display_name": "Python 3 (ipykernel)",
   "language": "python",
   "name": "python3"
  },
  "language_info": {
   "codemirror_mode": {
    "name": "ipython",
    "version": 3
   },
   "file_extension": ".py",
   "mimetype": "text/x-python",
   "name": "python",
   "nbconvert_exporter": "python",
   "pygments_lexer": "ipython3",
   "version": "3.12.5"
  }
 },
 "nbformat": 4,
 "nbformat_minor": 5
}
