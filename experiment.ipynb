{
 "cells": [
  {
   "cell_type": "code",
   "execution_count": 1,
   "id": "12cc4568-0e78-4f35-b487-726d32c90db7",
   "metadata": {},
   "outputs": [],
   "source": [
    "import sys # required for relative imports in jupyter lab\n",
    "sys.path.insert(0, '../')\n",
    "\n",
    "from dataset import TinyShakes\n",
    "\n",
    "from cosmosis.model import GPT\n",
    "from cosmosis.dataset import AsTensor\n",
    "from cosmosis.learning import Learn, Selector, Metrics\n",
    "\n",
    "from torch.nn import CrossEntropyLoss\n",
    "from torch.optim import Adam\n",
    "from torch.optim.lr_scheduler import ReduceLROnPlateau\n",
    "\n",
    "import torch"
   ]
  },
  {
   "cell_type": "code",
   "execution_count": 2,
   "id": "aba9ed73-8877-4149-a67d-e06dc33654f4",
   "metadata": {},
   "outputs": [
    {
     "name": "stdout",
     "output_type": "stream",
     "text": [
      "tinyshakes.txt loaded from saved file in ../gpt/data/\n",
      "tokens loaded from file ./data/tinyskakes_encoded.bin\n",
      "len(self.ds_idx):  338015\n",
      "data.nbytes:  676050\n",
      "CDataset created...\n"
     ]
    }
   ],
   "source": [
    "ds_param = {'transforms': {'X1': [AsTensor()], # target\n",
    "                           'X2': [AsTensor()]},\n",
    "            'block_size': 10}\n",
    "\n",
    "ts = TinyShakes(**ds_param)"
   ]
  },
  {
   "cell_type": "code",
   "execution_count": 3,
   "id": "8bb7d809-8f62-46a9-bc3c-881bc34e2959",
   "metadata": {},
   "outputs": [
    {
     "name": "stdout",
     "output_type": "stream",
     "text": [
      "{'X1': tensor([ 198, 1169, 3595,   13, 1002,  262, 9976, 4483,  514,  407]), 'X2': tensor([1169, 3595,   13, 1002,  262, 9976, 4483,  514,  407,  510])}\n",
      "torch.Size([10])\n",
      "<class 'torch.Tensor'>\n",
      "torch.int64\n"
     ]
    }
   ],
   "source": [
    "data = ts[1000]\n",
    "\n",
    "print(data)\n",
    "print(data['X1'].shape)\n",
    "print(type(data['X1']))\n",
    "print(data['X1'].dtype)"
   ]
  },
  {
   "cell_type": "code",
   "execution_count": 4,
   "id": "ce655299-cf77-45d5-a5a9-40a562816828",
   "metadata": {},
   "outputs": [
    {
     "name": "stdout",
     "output_type": "stream",
     "text": [
      "CModel loaded...\n"
     ]
    }
   ],
   "source": [
    "model_param = {'device': 'cpu',\n",
    "               'd_model': 8, # matches embedding dimension\n",
    "               'd_vocab': 50304, # matches embedding vocab\n",
    "               'n_head': 2, \n",
    "               'num_layers': 2,\n",
    "               'linear_head': True,\n",
    "               'probs': False, # softmax\n",
    "               'tokens': False, # multinomial\n",
    "               'transpose': False, \n",
    "               'embed_param': {'X1': (50304, 8, None, True),\n",
    "                               'X2': (50304, 8, None, True)}} \n",
    "\n",
    "gpt = GPT(model_param)"
   ]
  },
  {
   "cell_type": "code",
   "execution_count": 5,
   "id": "b9906fb4-873c-44c8-9604-3f94c69b4bc2",
   "metadata": {},
   "outputs": [],
   "source": [
    "out = gpt(data)"
   ]
  },
  {
   "cell_type": "code",
   "execution_count": 6,
   "id": "cd7409b4-d91d-406c-a33a-6e1478eae08e",
   "metadata": {},
   "outputs": [
    {
     "name": "stdout",
     "output_type": "stream",
     "text": [
      "tensor([[ 0.6138,  0.6739, -0.5095,  ...,  0.2041,  0.0000, -0.1754],\n",
      "        [-0.2924,  0.2480,  0.5024,  ..., -0.4601, -0.0000,  0.4064],\n",
      "        [ 1.2243, -0.6630,  0.6865,  ...,  0.9794,  0.0628,  0.4121],\n",
      "        ...,\n",
      "        [ 0.8794, -0.0000, -0.4544,  ...,  1.3360, -0.6383, -0.0000],\n",
      "        [-0.3470, -0.2362, -0.6718,  ...,  0.0033,  0.0860, -0.9900],\n",
      "        [ 0.1418,  1.1563, -0.7950,  ..., -0.6467,  0.0000, -0.7438]],\n",
      "       grad_fn=<MulBackward0>)\n",
      "torch.Size([10, 50304])\n",
      "torch.float32\n"
     ]
    }
   ],
   "source": [
    "print(out)\n",
    "print(out.shape)\n",
    "print(out.dtype)"
   ]
  },
  {
   "cell_type": "code",
   "execution_count": 7,
   "id": "ece293e8-8433-4920-9200-c6c707cbf478",
   "metadata": {},
   "outputs": [
    {
     "name": "stdout",
     "output_type": "stream",
     "text": [
      "prompt_tokens:  tensor([1169, 3595,   13, 1002,  262, 9976, 4483,  514,  407,  510]) torch.Size([10]) torch.int64\n",
      "target_tokens:  tensor([ 198, 1169, 3595,   13, 1002,  262, 9976, 4483,  514,  407]) torch.Size([10]) torch.int64\n",
      "generated_tokens:  tensor([[[ 0.6138,  0.6739, -0.5095,  ...,  0.2041,  0.0000, -0.1754],\n",
      "         [-0.2924,  0.2480,  0.5024,  ..., -0.4601, -0.0000,  0.4064],\n",
      "         [ 1.2243, -0.6630,  0.6865,  ...,  0.9794,  0.0628,  0.4121],\n",
      "         ...,\n",
      "         [ 0.8794, -0.0000, -0.4544,  ...,  1.3360, -0.6383, -0.0000],\n",
      "         [-0.3470, -0.2362, -0.6718,  ...,  0.0033,  0.0860, -0.9900],\n",
      "         [ 0.1418,  1.1563, -0.7950,  ..., -0.6467,  0.0000, -0.7438]]],\n",
      "       grad_fn=<UnsqueezeBackward0>) torch.Size([10, 50304]) torch.float32\n",
      "loss:  tensor(11.0196, grad_fn=<NllLossBackward0>)\n"
     ]
    }
   ],
   "source": [
    "cel_func = CrossEntropyLoss()\n",
    "prompt_tokens = data['X2']\n",
    "print('prompt_tokens: ', prompt_tokens, prompt_tokens.shape, prompt_tokens.dtype)\n",
    "\n",
    "target_tokens = data['X1']\n",
    "target_tokens.unsqueeze(0)\n",
    "print('target_tokens: ', target_tokens, target_tokens.shape, target_tokens.dtype)\n",
    "\n",
    "generated_tokens = out\n",
    "generated_tokens.unsqueeze(0)\n",
    "print('generated_tokens: ', generated_tokens.unsqueeze(0), generated_tokens.shape, generated_tokens.dtype)\n",
    "\n",
    "loss = cel_func(generated_tokens, target_tokens)\n",
    "print('loss: ', loss)"
   ]
  },
  {
   "cell_type": "code",
   "execution_count": 2,
   "id": "85bba839-481a-4aa8-8e88-ec83a0629029",
   "metadata": {},
   "outputs": [
    {
     "name": "stdout",
     "output_type": "stream",
     "text": [
      "tinyshakes.txt loaded from saved file in ../gpt/data/\n",
      "tokens loaded from file ./data/tinyskakes_encoded.bin\n",
      "len(self.ds_idx):  1000\n",
      "data.nbytes:  676050\n",
      "CDataset created...\n",
      "CModel loaded...\n",
      "running model on gpu...\n",
      "\n",
      "...........................\n",
      "learning time: 0:00:09.593797\n",
      "epoch: 0, lr: 0.01\n",
      "train loss: 0.3205190410559205, val loss: 0.2446113195684221\n",
      "last targets: \n",
      "[27075, 11, 4249, 3656, 30, 198, 198, 43, 9598, 9399, 25, 198, 3666, 15876, 11, 673, 743, 307, 257, 22782, 26, 329, 867, 286, 606, 389, 198, 710, 1555, 25920, 11, 27075, 11, 4249, 3656, 13, 198, 198, 35, 52, 7336, 569, 30158, 3525, 9399, 25, 198, 15086, 594, 326]\n",
      "last predictions: \n",
      "[284, 11, 198, 616, 198, 198, 198, 314, 11, 13, 25, 198, 616, 11, 11, 314, 25, 307, 257, 290, 11, 314, 314, 11, 11, 616, 198, 25, 11, 314, 11, 25, 11, 198, 198, 11, 198, 198, 314, 26, 198, 13, 198, 13, 13, 25, 198, 25, 25, 290]\n",
      "test loss: 0.18789394365416634\n",
      "\n",
      "...........................\n",
      "learning time: 0:00:19.020872\n",
      "last targets: \n",
      "[35, 724, 11, 555, 10155, 913, 16687, 11, 198, 5195, 1302, 338, 83, 14210, 991, 11, 290, 467, 338, 83, 407, 284, 262, 288, 4649, 30, 198, 198, 34, 29462, 17513, 25, 198, 5962, 11, 18680, 18901, 11, 1309, 502, 760, 534, 2000, 11, 198, 2061, 422, 534, 11542, 314]\n",
      "last predictions: \n",
      "[810, 534, 11, 345, 351, 307, 355, 11, 198, 5195, 284, 338, 287, 14210, 477, 11, 290, 2514, 338, 25, 407, 284, 262, 416, 2514, 30, 198, 198, 319, 407, 582, 25, 198, 2612, 11, 284, 14210, 11, 307, 30, 278, 534, 287, 11, 198, 2514, 422, 534, 326, 314]\n"
     ]
    },
    {
     "data": {
      "image/png": "[encoded data removed]",
      "text/plain": [
       "<Figure size 640x480 with 1 Axes>"
      ]
     },
     "metadata": {},
     "output_type": "display_data"
    }
   ],
   "source": [
    "\n",
    "ds_param = {'train_param': {'transforms': {'X1': [AsTensor()],\n",
    "                                           'X2': [AsTensor()]},\n",
    "                            'block_size': 50,\n",
    "                            'n': 1000}}\n",
    "\n",
    "model_param = {'device': 'cuda',\n",
    "               'd_model': 32, # matches embedding dimension\n",
    "               'd_vocab': 50304, # matches embedding vocab\n",
    "               'n_head': 4, \n",
    "               'num_layers': 3,\n",
    "               'linear_head': True,\n",
    "               'probs': False,\n",
    "               'tokens': False,\n",
    "               'transpose': True, \n",
    "               'embed_param': {'X1': (50304, 32, None, True),\n",
    "                               'X2': (50304, 32, None, True)}} \n",
    "                                       \n",
    "metrics_param = {'metric_name': 'transformer',\n",
    "                 'report_interval': 10,\n",
    "                 'log_plot': True,\n",
    "                 'min_lr': .005} # break if learning rate falls below                        \n",
    "             \n",
    "opt_param = {'lr': 0.01}\n",
    "\n",
    "crit_param = {}\n",
    "\n",
    "sample_param = {'set_seed': 88,\n",
    "                'splits': (.7,.15)}\n",
    "\n",
    "sched_param = {'factor': .5, \n",
    "               'patience': 2,\n",
    "               'cooldown': 2}\n",
    "\n",
    "learn = Learn([TinyShakes], \n",
    "              GPT,\n",
    "              Metrics=Metrics,\n",
    "              Sampler=Selector, \n",
    "              Optimizer=Adam, \n",
    "              Scheduler=ReduceLROnPlateau, \n",
    "              Criterion=CrossEntropyLoss,\n",
    "              model_param=model_param, ds_param=ds_param, sample_param=sample_param,\n",
    "              opt_param=opt_param, sched_param=sched_param, crit_param=crit_param,\n",
    "              metrics_param=metrics_param, \n",
    "              batch_size=24, epochs=2, gpu=True, squeeze_y_pred=True, target='X1')"
   ]
  },
  {
   "cell_type": "code",
   "execution_count": null,
   "id": "9c2ca0d9-31e8-4bbe-8975-d67412e39eff",
   "metadata": {},
   "outputs": [],
   "source": []
  }
 ],
 "metadata": {
  "kernelspec": {
   "display_name": "Python 3 (ipykernel)",
   "language": "python",
   "name": "python3"
  },
  "language_info": {
   "codemirror_mode": {
    "name": "ipython",
    "version": 3
   },
   "file_extension": ".py",
   "mimetype": "text/x-python",
   "name": "python",
   "nbconvert_exporter": "python",
   "pygments_lexer": "ipython3",
   "version": "3.12.5"
  }
 },
 "nbformat": 4,
 "nbformat_minor": 5
}
