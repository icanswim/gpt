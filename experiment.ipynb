{
 "cells": [
  {
   "cell_type": "code",
   "execution_count": null,
   "id": "9a99822a-85e3-49a2-83cb-35b17a0badda",
   "metadata": {},
   "outputs": [],
   "source": [
    "# This is an example GPT style decoder only transformer model and example dataset\n",
    "# This an example of the use of the icanswim/cosmosis repo for data science and \n",
    "# machine learning projects"
   ]
  },
  {
   "cell_type": "code",
   "execution_count": 1,
   "id": "39e6f4fc-377b-4061-b4de-782c530e886b",
   "metadata": {},
   "outputs": [],
   "source": [
    "import sys # required for relative imports in jupyter lab\n",
    "sys.path.insert(0, '../')\n",
    "\n",
    "from torch.nn import CrossEntropyLoss\n",
    "from torch.optim import Adam\n",
    "from torch.optim.lr_scheduler import ReduceLROnPlateau\n",
    "\n",
    "from cosmosis.dataset import AsTensor\n",
    "from cosmosis.learning import Learn, Selector, Metrics\n",
    "from cosmosis.model import GPT\n",
    "\n",
    "from dataset import TinyShakes"
   ]
  },
  {
   "cell_type": "code",
   "execution_count": 2,
   "id": "0a41a7c0-4dfd-4eee-97d0-ff3be0ff68ea",
   "metadata": {
    "collapsed": true,
    "jupyter": {
     "outputs_hidden": true,
     "source_hidden": true
    }
   },
   "outputs": [
    {
     "name": "stdout",
     "output_type": "stream",
     "text": [
      "tinyshakes.txt loaded from saved file in ../gpt/data/\n",
      "tokens loaded from file ./data/tinyshakes_stripped_encoded.bin\n",
      "len(self.ds_idx):  5\n",
      "data.nbytes:  602664\n",
      "CDataset created...\n",
      "{'tokens': tensor([ 5962, 22307,    25,  7413,   356,  5120,   597,  2252,    11,  3285]), 'y': tensor([22307,    25,  7413,   356,  5120,   597,  2252,    11,  3285,   502]), 'position': tensor([0, 1, 2, 3, 4, 5, 6, 7, 8, 9])}\n",
      "torch.Size([10]) torch.int64\n",
      "torch.Size([10]) torch.int64\n",
      "decoded tokens:  First Citizen: Before we proceed any further, hear\n",
      "decoded y:   Citizen: Before we proceed any further, hear me\n"
     ]
    }
   ],
   "source": [
    "# explore the ds\n",
    "\n",
    "ds_param = {'transforms': {'tokens': [AsTensor()],\n",
    "                           'y': [AsTensor()],\n",
    "                           'position': [AsTensor()]},\n",
    "            'd_seq': 10,\n",
    "            'n': 5}\n",
    "\n",
    "ts = TinyShakes(**ds_param)\n",
    "\n",
    "print(ts[0])\n",
    "print(ts[0]['tokens'].shape, ts[0]['tokens'].dtype)\n",
    "print(ts[0]['y'].shape, ts[0]['y'].dtype)\n",
    "print('decoded tokens: ', ts.encoding.decode(ts[0]['tokens'].tolist()))\n",
    "print('decoded y: ', ts.encoding.decode(ts[0]['y'].tolist()))\n"
   ]
  },
  {
   "cell_type": "code",
   "execution_count": 3,
   "id": "daa1bb37-3b07-4b1c-9fde-1ddf5f3c8c5b",
   "metadata": {
    "collapsed": true,
    "jupyter": {
     "outputs_hidden": true,
     "source_hidden": true
    }
   },
   "outputs": [
    {
     "name": "stdout",
     "output_type": "stream",
     "text": [
      "len(self.ds_idx):  1\n",
      "data.nbytes:  22\n",
      "CDataset created...\n",
      "{'tokens': tensor([ 5962, 22307,    25,  7413,   356,  5120,   597,  2252,    11,  3285,\n",
      "          220]), 'y': tensor([22307,    25,  7413,   356,  5120,   597,  2252,    11,  3285,   220]), 'position': tensor([ 0,  1,  2,  3,  4,  5,  6,  7,  8,  9, 10])}\n",
      "torch.Size([11])\n",
      "torch.Size([10])\n",
      "decoded tokens:  First Citizen: Before we proceed any further, hear \n",
      "decoded y:   Citizen: Before we proceed any further, hear \n"
     ]
    }
   ],
   "source": [
    "# example using prompt for inference\n",
    "\n",
    "ds_param = {'transforms': {'tokens': [AsTensor()],\n",
    "                           'y': [AsTensor()],\n",
    "                           'position': [AsTensor()]},\n",
    "            'prompt': 'First Citizen: Before we proceed any further, hear '}\n",
    "\n",
    "prompt = TinyShakes(**ds_param)\n",
    "print(prompt[0])\n",
    "print(prompt[0]['tokens'].shape)\n",
    "# y wont be used in inference but is generated automatically \n",
    "# as part of the reuse of the getitem machinery\n",
    "print(prompt[0]['y'].shape) \n",
    "print('decoded tokens: ', prompt.encoding.decode(prompt[0]['tokens'].tolist()))\n",
    "print('decoded y: ', prompt.encoding.decode(prompt[0]['y'].tolist()))"
   ]
  },
  {
   "cell_type": "code",
   "execution_count": 4,
   "id": "b9906fb4-873c-44c8-9604-3f94c69b4bc2",
   "metadata": {
    "collapsed": true,
    "jupyter": {
     "outputs_hidden": true,
     "source_hidden": true
    }
   },
   "outputs": [
    {
     "name": "stdout",
     "output_type": "stream",
     "text": [
      "tinyshakes.txt loaded from saved file in ../gpt/data/\n",
      "tokens loaded from file ./data/tinyshakes_stripped_encoded.bin\n",
      "len(self.ds_idx):  5\n",
      "data.nbytes:  602664\n",
      "CDataset created...\n",
      "{'tokens': tensor([ 5962, 22307,    25]), 'y': tensor([22307,    25,  7413]), 'position': tensor([0, 1, 2])}\n",
      "torch.Size([3]) torch.int64\n",
      "torch.Size([3]) torch.int64\n",
      "decoded tokens:  First Citizen:\n",
      "decoded y:   Citizen: Before\n",
      "applying _init_weights...\n",
      "GPT model loaded...\n",
      "number of model parameters:  201220\n",
      "output:  tensor([[ 0.0069,  0.0168,  0.0580,  ..., -0.0273,  0.0639, -0.0131],\n",
      "        [-0.0019,  0.0078,  0.0237,  ..., -0.0403,  0.0652,  0.0063],\n",
      "        [-0.0422,  0.0211,  0.0521,  ..., -0.0379,  0.0138, -0.0096]],\n",
      "       grad_fn=<MmBackward0>) torch.Size([3, 50304]) torch.float32\n",
      "prompt_tokens:  tensor([ 5962, 22307,    25]) torch.Size([3]) torch.int64\n",
      "target_tokens:  tensor([22307,    25,  7413]) torch.Size([3]) torch.int64\n",
      "generated_embeddings:  tensor([[ 0.0069,  0.0168,  0.0580,  ..., -0.0273,  0.0639, -0.0131],\n",
      "        [-0.0019,  0.0078,  0.0237,  ..., -0.0403,  0.0652,  0.0063],\n",
      "        [-0.0422,  0.0211,  0.0521,  ..., -0.0379,  0.0138, -0.0096]],\n",
      "       grad_fn=<SqueezeBackward0>) torch.Size([3, 50304]) torch.float32\n",
      "decoded generated tokens:   blocker avalhyd\n",
      "loss:  tensor(10.8289, grad_fn=<NllLossBackward0>)\n"
     ]
    }
   ],
   "source": [
    "# pass a single example from dataset to model to loss function\n",
    "# (batch, d_seq, d_model)\n",
    "\n",
    "d_seq = 3 # dimension sequence\n",
    "d_vocab = 50304 # dimension vocabulary\n",
    "d_vec = 4 # dimension embedding vector\n",
    "d_model = 4 # dimension model input\n",
    "\n",
    "assert d_model == d_vec\n",
    "\n",
    "ds_param = {'transforms': {'tokens': [AsTensor()],\n",
    "                           'y': [AsTensor()],\n",
    "                           'position': [AsTensor()]},\n",
    "            'd_seq': d_seq,\n",
    "            'n': 5}\n",
    "\n",
    "ts = TinyShakes(**ds_param)\n",
    "\n",
    "print(ts[0])\n",
    "print(ts[0]['tokens'].shape, ts[0]['tokens'].dtype)\n",
    "print(ts[0]['y'].shape, ts[0]['y'].dtype)\n",
    "print('decoded tokens: ', ts.encoding.decode(ts[0]['tokens'].tolist()))\n",
    "print('decoded y: ', ts.encoding.decode(ts[0]['y'].tolist()))\n",
    "\n",
    "model_param = {'device': 'cpu',\n",
    "               'd_model': d_model, # matches embedding dimension\n",
    "               'd_vocab': d_vocab, \n",
    "               'n_head': 2, \n",
    "               'num_layers': 2,\n",
    "               'd_seq': d_seq,\n",
    "               'd_vec': d_vec,\n",
    "               'embed_param': {'tokens': (d_vocab, d_vec, None, True), \n",
    "                               'y': (d_vocab, d_vec, None, True),\n",
    "                               'position': (d_seq, d_vec, None, True)}} \n",
    "\n",
    "gpt = GPT(model_param)\n",
    "\n",
    "data = ts[0]\n",
    "out = gpt(data)\n",
    "print('output: ', out, out.shape, out.dtype)\n",
    "\n",
    "prompt_tokens = data['tokens']\n",
    "print('prompt_tokens: ', prompt_tokens, prompt_tokens.shape, prompt_tokens.dtype)\n",
    "\n",
    "target_tokens = data['y']\n",
    "print('target_tokens: ', target_tokens, target_tokens.shape, target_tokens.dtype)\n",
    "\n",
    "generated_embeddings = out.squeeze()\n",
    "print('generated_embeddings: ', generated_embeddings, generated_embeddings.shape, generated_embeddings.dtype)\n",
    "print('decoded generated tokens: ', prompt.encoding.decode(generated_embeddings.argmax(dim=-1).tolist()))\n",
    "\n",
    "cel_func = CrossEntropyLoss()\n",
    "loss = cel_func(out, target_tokens)\n",
    "print('loss: ', loss)\n"
   ]
  },
  {
   "cell_type": "code",
   "execution_count": 2,
   "id": "85bba839-481a-4aa8-8e88-ec83a0629029",
   "metadata": {
    "scrolled": true
   },
   "outputs": [
    {
     "name": "stdout",
     "output_type": "stream",
     "text": [
      "tinyshakes.txt loaded from saved file in ../gpt/data/\n",
      "tokens loaded from file ./data/tinyshakes_stripped_encoded.bin\n",
      "len(self.ds_idx):  1000\n",
      "data.nbytes:  602664\n",
      "CDataset created...\n",
      "applying _init_weights...\n",
      "GPT model loaded...\n",
      "number of model parameters:  25756160\n",
      "model loaded from state_dict...\n",
      "loading embedding weights...\n",
      "running model on gpu...\n",
      "\n",
      "........final........\n",
      "\n",
      "total learning time: 0:00:03.529898\n",
      "test loss: 0.042999267578125\n"
     ]
    },
    {
     "data": {
      "image/png": "[encoded data removed]",
      "text/plain": [
       "<Figure size 640x480 with 1 Axes>"
      ]
     },
     "metadata": {},
     "output_type": "display_data"
    },
    {
     "name": "stdout",
     "output_type": "stream",
     "text": [
      "model: tinyshakes512 saved...\n"
     ]
    }
   ],
   "source": [
    "# put all together in a learner\n",
    "# (batch, d_seq, d_model)\n",
    "\n",
    "d_seq = 50 # dimension sequence\n",
    "d_vocab = 50304 # dimension vocabulary\n",
    "d_vec = 512 # dimension embedding vector\n",
    "d_model = 512 # dimension model input\n",
    "assert d_model == d_vec\n",
    "\n",
    "ds_param = {'train_param': {'transforms': {'tokens': [AsTensor()],\n",
    "                            'y': [AsTensor()],\n",
    "                            'position': [AsTensor()]},\n",
    "            'd_seq': d_seq,\n",
    "            'n': 1000,\n",
    "                           }}\n",
    "\n",
    "model_param = {'d_model': d_model,\n",
    "               'd_vocab': d_vocab, \n",
    "               'n_head': 8, \n",
    "               'num_layers': 8,\n",
    "               'd_seq': d_seq,\n",
    "               'd_vec': d_vec,\n",
    "               'embed_param': {'tokens': (d_vocab, d_vec, None, True), \n",
    "                               'y': (d_vocab, d_vec, None, True),\n",
    "                               'position': (d_seq, d_vec, None, True)}} \n",
    "                                       \n",
    "metrics_param = {'metric_name': 'transformer',\n",
    "                 'report_interval': 1,\n",
    "                 'log_plot': False,\n",
    "                 'min_lr': .0025} # break if learning rate falls below                        \n",
    "             \n",
    "opt_param = {'lr': 0.01}\n",
    "\n",
    "crit_param = {}\n",
    "\n",
    "sample_param = {'set_seed': 88,\n",
    "                'splits': (.7,.15)}\n",
    "\n",
    "sched_param = {'factor': .5, \n",
    "               'patience': 2,\n",
    "               'cooldown': 2}\n",
    "\n",
    "learn = Learn([TinyShakes], \n",
    "              GPT,\n",
    "              Metrics=Metrics,\n",
    "              Sampler=Selector, \n",
    "              Optimizer=Adam, \n",
    "              Scheduler=ReduceLROnPlateau, \n",
    "              Criterion=CrossEntropyLoss,\n",
    "              model_param=model_param, ds_param=ds_param, sample_param=sample_param,\n",
    "              opt_param=opt_param, sched_param=sched_param, crit_param=crit_param,\n",
    "              metrics_param=metrics_param, \n",
    "              batch_size=100, epochs=1, gpu=True, save_model='tinyshakes512', \n",
    "              load_model='tinyshakes512.pth', load_embed=True, target='y')"
   ]
  },
  {
   "cell_type": "code",
   "execution_count": 7,
   "id": "f741604a-078e-4156-8a8c-73ce10437b3b",
   "metadata": {
    "collapsed": true,
    "jupyter": {
     "outputs_hidden": true
    }
   },
   "outputs": [
    {
     "name": "stdout",
     "output_type": "stream",
     "text": [
      "len(self.ds_idx):  1\n",
      "data.nbytes:  34\n",
      "CDataset created...\n",
      "applying _init_weights...\n",
      "GPT model loaded...\n",
      "model loaded from state_dict...\n",
      "running model on gpu...\n",
      "\n",
      ".....................\n",
      "\n",
      "total learning time: 0:00:00.153667\n",
      "predictions:  [[' nodded myantine myIOUSUS lordoth protest L ceremonies  actsconCISISUU,   golden AD politicsribesconconYR Alvin Intellectualcastsningsside animal Unleashed caught Quite colder manipulating lucrative pilgr Employ intellectuals unusually official agric Lad sloppy']]\n",
      "inference instance 2025-03-06 08:07:45.154228 complete and saved to csv...\n",
      "\n",
      ".....................\n",
      "\n",
      "total learning time: 0:00:00.170821\n",
      "predictions:  [[' addressed my compose ofIOUSUS lord d conquest har ceremonies OLconCISISUSUS:US. Redmondع sporadic blastsESSalt En Closed Intellectual Intellectual Orbitalside examples connectors frivolous Quitestown Pole lucrative wildly shocks couples unusually officialBUG repaymentPi']]\n",
      "inference instance 2025-03-06 08:07:45.171382 complete and saved to csv...\n",
      "\n",
      ".....................\n",
      "\n",
      "total learning time: 0:00:00.188848\n",
      "predictions:  [[\" noddedENTantine ofIOUSUS's so conquest m Repair  actsARDCRYRYII, B RR LA have:IZRRRAB the aR ENUEEN uns Hass appeared pencil terminated unusually proposition agric levied Tu\"]]\n",
      "inference instance 2025-03-06 08:07:45.189409 complete and saved to csv...\n"
     ]
    }
   ],
   "source": [
    "# inference\n",
    "d_gen = 50 # dimension generate number of tokens\n",
    "d_vocab = 50304 # dimension vocabulary\n",
    "d_vec = 128 # dimension embedding vector\n",
    "d_model = 128 # dimension model input\n",
    "d_pos = 50 # dimension positional encoding d_pos >= max(len(prompt_tokens), d_gen)\n",
    "\n",
    "assert d_model == d_vec\n",
    "\n",
    "\n",
    "ds_param = {'train_param': {'transforms': {'tokens': [AsTensor()],\n",
    "                            'y': [AsTensor()],\n",
    "                            'position': [AsTensor()]},\n",
    "            'prompt': 'You may partake of any thing we say \\\n",
    "We speak no treason man we say the king'}}\n",
    "\n",
    "model_param = {'d_model': d_model,\n",
    "               'd_vocab': d_vocab, \n",
    "               'n_head': 8, \n",
    "               'num_layers': 6,\n",
    "               'd_gen': d_gen,\n",
    "               'd_vec': d_vec,\n",
    "               'temperature': 1,\n",
    "               'embed_param': {'tokens': (d_vocab, d_vec, None, True), \n",
    "                               #'y': (d_vocab, d_vec, None, True),\n",
    "                               'position': (d_pos, d_vec, None, True)}} \n",
    "                                       \n",
    "metrics_param = {'metric_name': 'transformer'}                        \n",
    "             \n",
    "opt_param = {}\n",
    "\n",
    "crit_param = {}\n",
    "\n",
    "sample_param = {}\n",
    "\n",
    "sched_param = {}\n",
    "\n",
    "learn = Learn([TinyShakes], \n",
    "              GPT,\n",
    "              Metrics=Metrics,\n",
    "              Sampler=Selector, \n",
    "              Optimizer=None, \n",
    "              Scheduler=None, \n",
    "              Criterion=None, # no criterion implies inference\n",
    "              model_param=model_param, ds_param=ds_param, sample_param=sample_param,\n",
    "              opt_param=opt_param, sched_param=sched_param, crit_param=crit_param,\n",
    "              metrics_param=metrics_param, \n",
    "              batch_size=1, epochs=3, gpu=True, \n",
    "              load_model='tinyshakes128.pth', target=None)\n"
   ]
  },
  {
   "cell_type": "code",
   "execution_count": null,
   "id": "72674c76-3839-48eb-a1ef-689958185ef9",
   "metadata": {},
   "outputs": [],
   "source": []
  }
 ],
 "metadata": {
  "kernelspec": {
   "display_name": "Python 3 (ipykernel)",
   "language": "python",
   "name": "python3"
  },
  "language_info": {
   "codemirror_mode": {
    "name": "ipython",
    "version": 3
   },
   "file_extension": ".py",
   "mimetype": "text/x-python",
   "name": "python",
   "nbconvert_exporter": "python",
   "pygments_lexer": "ipython3",
   "version": "3.12.5"
  }
 },
 "nbformat": 4,
 "nbformat_minor": 5
}
